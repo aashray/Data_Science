{
 "metadata": {
  "name": "",
  "signature": "sha256:08d2d8c75c587416058e9b6cb3cd42c2b33ce4a9c301e00f07ed3fe72c4684e2"
 },
 "nbformat": 3,
 "nbformat_minor": 0,
 "worksheets": [
  {
   "cells": [
    {
     "cell_type": "code",
     "collapsed": false,
     "input": [
      "%matplotlib inline\n",
      "import pandas as pd\n",
      "from pandas import Series, DataFrame\n",
      "import numpy as np\n",
      "import pylab as pl\n",
      "import numpy as np\n",
      "df_data2 = pd.read_csv('../data/dataset_predict_remaining_years.csv', error_bad_lines=False)\n",
      "female_prob = pd.read_csv('../data/Period_Life_Table_Female_2010.csv')\n",
      "male_prob = pd.read_csv('../data/Period_Life_Table_Male_2010.csv')\n",
      "male_prob.columns = ['Age', 'Death Prob']\n",
      "female_prob.columns = ['Age', 'Death Prob']\n",
      "# cat1 = 'less than 0.0002'\n",
      "# cat2 = '0.0002 <= x < 0.0004'\n",
      "# cat3 = '0.0004 <= x < 0.0006'\n",
      "# cat4 = '0.0006 <= x < 0.0010'\n",
      "# cat5 = '0.0010 <= x < 0.0020'\n",
      "# cat6 = '0.0020 <= x < 0.0040'\n",
      "# cat7 = '0.0040 <= x < 0.0060'\n",
      "# cat8 = '0.0060 <= x < 0.0100'\n",
      "# cat9 = '0.0100 <= x < 0.0200'\n",
      "# cat10 = '0.0200 <= x < 0.0400'\n",
      "# cat11 = '0.0400 <= x < 0.0600'\n",
      "# cat12 = '0.0600 <= x < 0.1000'\n",
      "# cat13 = '0.1000 <= x < 0.2000'\n",
      "# cat14 = '0.2000 <= x < 0.4000'\n",
      "# cat15 = '0.4000 <= x < 0.6000'\n",
      "# cat16 = '0.6000 <= x < 0.8000'\n",
      "# cat17 = '0.8000 <= x < 1.0000'\n",
      "df_data2\n",
      "df_data2 = df_data2.head(10)"
     ],
     "language": "python",
     "metadata": {},
     "outputs": [],
     "prompt_number": 4
    },
    {
     "cell_type": "code",
     "collapsed": false,
     "input": [
      "#0 - male\n",
      "# 1 - female\n",
      "print df_data2.shape\n",
      "df_data2 = df_data2[['Name','gender','Age']]\n",
      "df_data2['isDead'] = None\n",
      "df_data2['prob_death'] = None\n",
      "df_data2['cat'] = None\n",
      "df_temp = DataFrame(columns=df_data2.columns)\n",
      "print df_data2.shape\n",
      "df_temp.shape"
     ],
     "language": "python",
     "metadata": {},
     "outputs": [
      {
       "output_type": "stream",
       "stream": "stderr",
       "text": [
        "-c:5: SettingWithCopyWarning: \n",
        "A value is trying to be set on a copy of a slice from a DataFrame.\n",
        "Try using .loc[row_indexer,col_indexer] = value instead\n",
        "\n",
        "See the the caveats in the documentation: http://pandas.pydata.org/pandas-docs/stable/indexing.html#indexing-view-versus-copy\n",
        "-c:6: SettingWithCopyWarning: \n",
        "A value is trying to be set on a copy of a slice from a DataFrame.\n",
        "Try using .loc[row_indexer,col_indexer] = value instead\n",
        "\n",
        "See the the caveats in the documentation: http://pandas.pydata.org/pandas-docs/stable/indexing.html#indexing-view-versus-copy\n"
       ]
      },
      {
       "output_type": "stream",
       "stream": "stdout",
       "text": [
        "(10, 83)\n",
        "(10, 6)"
       ]
      },
      {
       "output_type": "stream",
       "stream": "stdout",
       "text": [
        "\n"
       ]
      },
      {
       "output_type": "stream",
       "stream": "stderr",
       "text": [
        "-c:7: SettingWithCopyWarning: \n",
        "A value is trying to be set on a copy of a slice from a DataFrame.\n",
        "Try using .loc[row_indexer,col_indexer] = value instead\n",
        "\n",
        "See the the caveats in the documentation: http://pandas.pydata.org/pandas-docs/stable/indexing.html#indexing-view-versus-copy\n"
       ]
      },
      {
       "metadata": {},
       "output_type": "pyout",
       "prompt_number": 6,
       "text": [
        "(0, 6)"
       ]
      }
     ],
     "prompt_number": 6
    },
    {
     "cell_type": "code",
     "collapsed": false,
     "input": [
      "\n",
      "def newdata(row):\n",
      "    df_new = DataFrame(columns=df_temp.columns)\n",
      "    age = 0\n",
      "    i = 0\n",
      "    age_dead = row['Age']\n",
      "    while (age < age_dead):\n",
      "        row['Age'] = age\n",
      "        row['isDead'] = False\n",
      "        if row['gender'] == 0:\n",
      "            row['prob_death'] = male_prob['Death Prob'].loc[age]\n",
      "        else:\n",
      "            row['prob_death'] = female_prob['Death Prob'].loc[age]\n",
      "        if (row['prob_death'] < 0.0002):\n",
      "            row['cat'] = 'cat1'\n",
      "        elif (row['prob_death'] < 0.0004):\n",
      "            row['cat'] = 'cat2'\n",
      "        elif (row['prob_death'] < 0.0006):\n",
      "            row['cat'] = 'cat3'\n",
      "        elif (row['prob_death'] < 0.0010):\n",
      "            row['cat'] = 'cat4'\n",
      "        elif (row['prob_death'] < 0.0020):\n",
      "            row['cat'] = 'cat5'\n",
      "        elif (row['prob_death'] < 0.0040):\n",
      "            row['cat'] = 'cat6'\n",
      "        elif (row['prob_death'] < 0.0060):\n",
      "            row['cat'] = 'cat7'\n",
      "        elif (row['prob_death'] < 0.0100):\n",
      "            row['cat'] = 'cat8'\n",
      "        elif (row['prob_death'] < 0.0200):\n",
      "            row['cat'] = 'cat9'\n",
      "        elif (row['prob_death'] < 0.0400):\n",
      "            row['cat'] = 'cat10'\n",
      "        elif (row['prob_death'] < 0.0600):\n",
      "            row['cat'] = 'cat11'\n",
      "        elif (row['prob_death'] < 0.1):\n",
      "            row['cat'] = 'cat12'\n",
      "        elif (row['prob_death'] < 0.2):\n",
      "            row['cat'] = 'cat13'\n",
      "        elif (row['prob_death'] < 0.4):\n",
      "            row['cat'] = 'cat14'\n",
      "        elif (row['prob_death'] < 0.6):\n",
      "            row['cat'] = 'cat15'\n",
      "        elif (row['prob_death'] < 0.8):\n",
      "            row['cat'] = 'cat16'\n",
      "        else:\n",
      "            row['cat'] = 'cat17'\n",
      "        df_new = df_new.append(row)\n",
      "        age=age+1\n",
      "        \n",
      "    row['Age'] = age_dead\n",
      "    row['isDead'] = True\n",
      "    if row['gender'] == 0:\n",
      "        row['prob_death'] = male_prob['Death Prob'].loc[age]\n",
      "    else:\n",
      "        row['prob_death'] = female_prob['Death Prob'].loc[age]\n",
      "    if (row['prob_death'] < 0.0002):\n",
      "        row['cat'] = 'cat1'\n",
      "    elif (row['prob_death'] < 0.0004):\n",
      "        row['cat'] = 'cat2'\n",
      "    elif (row['prob_death'] < 0.0006):\n",
      "        row['cat'] = 'cat3'\n",
      "    elif (row['prob_death'] < 0.0010):\n",
      "        row['cat'] = 'cat4'\n",
      "    elif (row['prob_death'] < 0.0020):\n",
      "        row['cat'] = 'cat5'\n",
      "    elif (row['prob_death'] < 0.0040):\n",
      "        row['cat'] = 'cat6'\n",
      "    elif (row['prob_death'] < 0.0060):\n",
      "        row['cat'] = 'cat7'\n",
      "    elif (row['prob_death'] < 0.0100):\n",
      "        row['cat'] = 'cat8'\n",
      "    elif (row['prob_death'] < 0.0200):\n",
      "        row['cat'] = 'cat9'\n",
      "    elif (row['prob_death'] < 0.0400):\n",
      "        row['cat'] = 'cat10'\n",
      "    elif (row['prob_death'] < 0.0600):\n",
      "        row['cat'] = 'cat11'\n",
      "    elif (row['prob_death'] < 0.1):\n",
      "        row['cat'] = 'cat12'\n",
      "    elif (row['prob_death'] < 0.2):\n",
      "        row['cat'] = 'cat13'\n",
      "    elif (row['prob_death'] < 0.4):\n",
      "        row['cat'] = 'cat14'\n",
      "    elif (row['prob_death'] < 0.6):\n",
      "        row['cat'] = 'cat15'\n",
      "    elif (row['prob_death'] < 0.8):\n",
      "        row['cat'] = 'cat16'\n",
      "    else:\n",
      "        row['cat'] = 'cat17'\n",
      "    df_new = df_new.append(row)\n",
      "#     print df_new\n",
      "    print df_new.shape\n",
      "    return df_new\n",
      "print df_data2.shape\n",
      "print df_temp.shape\n",
      "\n",
      "# df_temp = pd.concat([df_temp, df_data2.apply(newdata,axis=1)], axis=0)\n",
      "df_temp = df_temp.append(df_data2.apply(newdata,axis=1),axis=1)"
     ],
     "language": "python",
     "metadata": {},
     "outputs": [
      {
       "output_type": "stream",
       "stream": "stdout",
       "text": [
        "(10, 6)\n",
        "(0, 6)\n",
        "(73, 6)"
       ]
      },
      {
       "output_type": "stream",
       "stream": "stdout",
       "text": [
        "\n",
        "(73, 6)"
       ]
      },
      {
       "output_type": "stream",
       "stream": "stdout",
       "text": [
        "\n",
        "(68, 6)"
       ]
      },
      {
       "output_type": "stream",
       "stream": "stdout",
       "text": [
        "\n",
        "(76, 6)"
       ]
      },
      {
       "output_type": "stream",
       "stream": "stdout",
       "text": [
        "\n",
        "(61, 6)"
       ]
      },
      {
       "output_type": "stream",
       "stream": "stdout",
       "text": [
        "\n",
        "(67, 6)"
       ]
      },
      {
       "output_type": "stream",
       "stream": "stdout",
       "text": [
        "\n",
        "(84, 6)"
       ]
      },
      {
       "output_type": "stream",
       "stream": "stdout",
       "text": [
        "\n",
        "(71, 6)"
       ]
      },
      {
       "output_type": "stream",
       "stream": "stdout",
       "text": [
        "\n",
        "(91, 6)"
       ]
      },
      {
       "output_type": "stream",
       "stream": "stdout",
       "text": [
        "\n",
        "(81, 6)"
       ]
      },
      {
       "output_type": "stream",
       "stream": "stdout",
       "text": [
        "\n",
        "(80, 6)"
       ]
      },
      {
       "output_type": "stream",
       "stream": "stdout",
       "text": [
        "\n"
       ]
      },
      {
       "ename": "ValueError",
       "evalue": "cannot copy sequence with size 6 to array axis with dimension 73",
       "output_type": "pyerr",
       "traceback": [
        "\u001b[1;31m---------------------------------------------------------------------------\u001b[0m\n\u001b[1;31mValueError\u001b[0m                                Traceback (most recent call last)",
        "\u001b[1;32m<ipython-input-8-b9f6fdc920b2>\u001b[0m in \u001b[0;36m<module>\u001b[1;34m()\u001b[0m\n\u001b[0;32m     97\u001b[0m \u001b[1;33m\u001b[0m\u001b[0m\n\u001b[0;32m     98\u001b[0m \u001b[1;31m# df_temp = pd.concat([df_temp, df_data2.apply(newdata,axis=1)], axis=0)\u001b[0m\u001b[1;33m\u001b[0m\u001b[1;33m\u001b[0m\u001b[0m\n\u001b[1;32m---> 99\u001b[1;33m \u001b[0mdf_temp\u001b[0m \u001b[1;33m=\u001b[0m \u001b[0mdf_temp\u001b[0m\u001b[1;33m.\u001b[0m\u001b[0mappend\u001b[0m\u001b[1;33m(\u001b[0m\u001b[0mdf_data2\u001b[0m\u001b[1;33m.\u001b[0m\u001b[0mapply\u001b[0m\u001b[1;33m(\u001b[0m\u001b[0mnewdata\u001b[0m\u001b[1;33m,\u001b[0m\u001b[0maxis\u001b[0m\u001b[1;33m=\u001b[0m\u001b[1;36m1\u001b[0m\u001b[1;33m)\u001b[0m\u001b[1;33m,\u001b[0m\u001b[0maxis\u001b[0m\u001b[1;33m=\u001b[0m\u001b[1;36m1\u001b[0m\u001b[1;33m)\u001b[0m\u001b[1;33m\u001b[0m\u001b[0m\n\u001b[0m",
        "\u001b[1;32mC:\\Users\\Varsha\\User\\lib\\site-packages\\pandas\\core\\frame.pyc\u001b[0m in \u001b[0;36mapply\u001b[1;34m(self, func, axis, broadcast, raw, reduce, args, **kwds)\u001b[0m\n\u001b[0;32m   3556\u001b[0m                     \u001b[1;32mif\u001b[0m \u001b[0mreduce\u001b[0m \u001b[1;32mis\u001b[0m \u001b[0mNone\u001b[0m\u001b[1;33m:\u001b[0m\u001b[1;33m\u001b[0m\u001b[0m\n\u001b[0;32m   3557\u001b[0m                         \u001b[0mreduce\u001b[0m \u001b[1;33m=\u001b[0m \u001b[0mTrue\u001b[0m\u001b[1;33m\u001b[0m\u001b[0m\n\u001b[1;32m-> 3558\u001b[1;33m                     \u001b[1;32mreturn\u001b[0m \u001b[0mself\u001b[0m\u001b[1;33m.\u001b[0m\u001b[0m_apply_standard\u001b[0m\u001b[1;33m(\u001b[0m\u001b[0mf\u001b[0m\u001b[1;33m,\u001b[0m \u001b[0maxis\u001b[0m\u001b[1;33m,\u001b[0m \u001b[0mreduce\u001b[0m\u001b[1;33m=\u001b[0m\u001b[0mreduce\u001b[0m\u001b[1;33m)\u001b[0m\u001b[1;33m\u001b[0m\u001b[0m\n\u001b[0m\u001b[0;32m   3559\u001b[0m             \u001b[1;32melse\u001b[0m\u001b[1;33m:\u001b[0m\u001b[1;33m\u001b[0m\u001b[0m\n\u001b[0;32m   3560\u001b[0m                 \u001b[1;32mreturn\u001b[0m \u001b[0mself\u001b[0m\u001b[1;33m.\u001b[0m\u001b[0m_apply_broadcast\u001b[0m\u001b[1;33m(\u001b[0m\u001b[0mf\u001b[0m\u001b[1;33m,\u001b[0m \u001b[0maxis\u001b[0m\u001b[1;33m)\u001b[0m\u001b[1;33m\u001b[0m\u001b[0m\n",
        "\u001b[1;32mC:\\Users\\Varsha\\User\\lib\\site-packages\\pandas\\core\\frame.pyc\u001b[0m in \u001b[0;36m_apply_standard\u001b[1;34m(self, func, axis, ignore_failures, reduce)\u001b[0m\n\u001b[0;32m   3663\u001b[0m                 \u001b[0mindex\u001b[0m \u001b[1;33m=\u001b[0m \u001b[0mNone\u001b[0m\u001b[1;33m\u001b[0m\u001b[0m\n\u001b[0;32m   3664\u001b[0m \u001b[1;33m\u001b[0m\u001b[0m\n\u001b[1;32m-> 3665\u001b[1;33m             \u001b[0mresult\u001b[0m \u001b[1;33m=\u001b[0m \u001b[0mself\u001b[0m\u001b[1;33m.\u001b[0m\u001b[0m_constructor\u001b[0m\u001b[1;33m(\u001b[0m\u001b[0mdata\u001b[0m\u001b[1;33m=\u001b[0m\u001b[0mresults\u001b[0m\u001b[1;33m,\u001b[0m \u001b[0mindex\u001b[0m\u001b[1;33m=\u001b[0m\u001b[0mindex\u001b[0m\u001b[1;33m)\u001b[0m\u001b[1;33m\u001b[0m\u001b[0m\n\u001b[0m\u001b[0;32m   3666\u001b[0m             \u001b[0mresult\u001b[0m\u001b[1;33m.\u001b[0m\u001b[0mcolumns\u001b[0m \u001b[1;33m=\u001b[0m \u001b[0mres_index\u001b[0m\u001b[1;33m\u001b[0m\u001b[0m\n\u001b[0;32m   3667\u001b[0m \u001b[1;33m\u001b[0m\u001b[0m\n",
        "\u001b[1;32mC:\\Users\\Varsha\\User\\lib\\site-packages\\pandas\\core\\frame.pyc\u001b[0m in \u001b[0;36m__init__\u001b[1;34m(self, data, index, columns, dtype, copy)\u001b[0m\n\u001b[0;32m    205\u001b[0m                                  dtype=dtype, copy=copy)\n\u001b[0;32m    206\u001b[0m         \u001b[1;32melif\u001b[0m \u001b[0misinstance\u001b[0m\u001b[1;33m(\u001b[0m\u001b[0mdata\u001b[0m\u001b[1;33m,\u001b[0m \u001b[0mdict\u001b[0m\u001b[1;33m)\u001b[0m\u001b[1;33m:\u001b[0m\u001b[1;33m\u001b[0m\u001b[0m\n\u001b[1;32m--> 207\u001b[1;33m             \u001b[0mmgr\u001b[0m \u001b[1;33m=\u001b[0m \u001b[0mself\u001b[0m\u001b[1;33m.\u001b[0m\u001b[0m_init_dict\u001b[0m\u001b[1;33m(\u001b[0m\u001b[0mdata\u001b[0m\u001b[1;33m,\u001b[0m \u001b[0mindex\u001b[0m\u001b[1;33m,\u001b[0m \u001b[0mcolumns\u001b[0m\u001b[1;33m,\u001b[0m \u001b[0mdtype\u001b[0m\u001b[1;33m=\u001b[0m\u001b[0mdtype\u001b[0m\u001b[1;33m)\u001b[0m\u001b[1;33m\u001b[0m\u001b[0m\n\u001b[0m\u001b[0;32m    208\u001b[0m         \u001b[1;32melif\u001b[0m \u001b[0misinstance\u001b[0m\u001b[1;33m(\u001b[0m\u001b[0mdata\u001b[0m\u001b[1;33m,\u001b[0m \u001b[0mma\u001b[0m\u001b[1;33m.\u001b[0m\u001b[0mMaskedArray\u001b[0m\u001b[1;33m)\u001b[0m\u001b[1;33m:\u001b[0m\u001b[1;33m\u001b[0m\u001b[0m\n\u001b[0;32m    209\u001b[0m             \u001b[1;32mimport\u001b[0m \u001b[0mnumpy\u001b[0m\u001b[1;33m.\u001b[0m\u001b[0mma\u001b[0m\u001b[1;33m.\u001b[0m\u001b[0mmrecords\u001b[0m \u001b[1;32mas\u001b[0m \u001b[0mmrecords\u001b[0m\u001b[1;33m\u001b[0m\u001b[0m\n",
        "\u001b[1;32mC:\\Users\\Varsha\\User\\lib\\site-packages\\pandas\\core\\frame.pyc\u001b[0m in \u001b[0;36m_init_dict\u001b[1;34m(self, data, index, columns, dtype)\u001b[0m\n\u001b[0;32m    329\u001b[0m \u001b[1;33m\u001b[0m\u001b[0m\n\u001b[0;32m    330\u001b[0m         return _arrays_to_mgr(arrays, data_names, index, columns,\n\u001b[1;32m--> 331\u001b[1;33m                               dtype=dtype)\n\u001b[0m\u001b[0;32m    332\u001b[0m \u001b[1;33m\u001b[0m\u001b[0m\n\u001b[0;32m    333\u001b[0m     def _init_ndarray(self, values, index, columns, dtype=None,\n",
        "\u001b[1;32mC:\\Users\\Varsha\\User\\lib\\site-packages\\pandas\\core\\frame.pyc\u001b[0m in \u001b[0;36m_arrays_to_mgr\u001b[1;34m(arrays, arr_names, index, columns, dtype)\u001b[0m\n\u001b[0;32m   4644\u001b[0m \u001b[1;33m\u001b[0m\u001b[0m\n\u001b[0;32m   4645\u001b[0m     \u001b[1;31m# don't force copy because getting jammed in an ndarray anyway\u001b[0m\u001b[1;33m\u001b[0m\u001b[1;33m\u001b[0m\u001b[0m\n\u001b[1;32m-> 4646\u001b[1;33m     \u001b[0marrays\u001b[0m \u001b[1;33m=\u001b[0m \u001b[0m_homogenize\u001b[0m\u001b[1;33m(\u001b[0m\u001b[0marrays\u001b[0m\u001b[1;33m,\u001b[0m \u001b[0mindex\u001b[0m\u001b[1;33m,\u001b[0m \u001b[0mdtype\u001b[0m\u001b[1;33m)\u001b[0m\u001b[1;33m\u001b[0m\u001b[0m\n\u001b[0m\u001b[0;32m   4647\u001b[0m \u001b[1;33m\u001b[0m\u001b[0m\n\u001b[0;32m   4648\u001b[0m     \u001b[1;31m# from BlockManager perspective\u001b[0m\u001b[1;33m\u001b[0m\u001b[1;33m\u001b[0m\u001b[0m\n",
        "\u001b[1;32mC:\\Users\\Varsha\\User\\lib\\site-packages\\pandas\\core\\frame.pyc\u001b[0m in \u001b[0;36m_homogenize\u001b[1;34m(data, index, dtype)\u001b[0m\n\u001b[0;32m   4953\u001b[0m \u001b[1;33m\u001b[0m\u001b[0m\n\u001b[0;32m   4954\u001b[0m             v = _sanitize_array(v, index, dtype=dtype, copy=False,\n\u001b[1;32m-> 4955\u001b[1;33m                                 raise_cast_failure=False)\n\u001b[0m\u001b[0;32m   4956\u001b[0m \u001b[1;33m\u001b[0m\u001b[0m\n\u001b[0;32m   4957\u001b[0m         \u001b[0mhomogenized\u001b[0m\u001b[1;33m.\u001b[0m\u001b[0mappend\u001b[0m\u001b[1;33m(\u001b[0m\u001b[0mv\u001b[0m\u001b[1;33m)\u001b[0m\u001b[1;33m\u001b[0m\u001b[0m\n",
        "\u001b[1;32mC:\\Users\\Varsha\\User\\lib\\site-packages\\pandas\\core\\series.pyc\u001b[0m in \u001b[0;36m_sanitize_array\u001b[1;34m(data, index, dtype, copy, raise_cast_failure)\u001b[0m\n\u001b[0;32m   2672\u001b[0m             \u001b[1;32mraise\u001b[0m \u001b[0mException\u001b[0m\u001b[1;33m(\u001b[0m\u001b[1;34m'Data must be 1-dimensional'\u001b[0m\u001b[1;33m)\u001b[0m\u001b[1;33m\u001b[0m\u001b[0m\n\u001b[0;32m   2673\u001b[0m         \u001b[1;32melse\u001b[0m\u001b[1;33m:\u001b[0m\u001b[1;33m\u001b[0m\u001b[0m\n\u001b[1;32m-> 2674\u001b[1;33m             \u001b[0msubarr\u001b[0m \u001b[1;33m=\u001b[0m \u001b[0m_asarray_tuplesafe\u001b[0m\u001b[1;33m(\u001b[0m\u001b[0mdata\u001b[0m\u001b[1;33m,\u001b[0m \u001b[0mdtype\u001b[0m\u001b[1;33m=\u001b[0m\u001b[0mdtype\u001b[0m\u001b[1;33m)\u001b[0m\u001b[1;33m\u001b[0m\u001b[0m\n\u001b[0m\u001b[0;32m   2675\u001b[0m \u001b[1;33m\u001b[0m\u001b[0m\n\u001b[0;32m   2676\u001b[0m     \u001b[1;31m# This is to prevent mixed-type Series getting all casted to\u001b[0m\u001b[1;33m\u001b[0m\u001b[1;33m\u001b[0m\u001b[0m\n",
        "\u001b[1;32mC:\\Users\\Varsha\\User\\lib\\site-packages\\pandas\\core\\common.pyc\u001b[0m in \u001b[0;36m_asarray_tuplesafe\u001b[1;34m(values, dtype)\u001b[0m\n\u001b[0;32m   2291\u001b[0m             \u001b[1;32mexcept\u001b[0m \u001b[0mValueError\u001b[0m\u001b[1;33m:\u001b[0m\u001b[1;33m\u001b[0m\u001b[0m\n\u001b[0;32m   2292\u001b[0m                 \u001b[1;31m# we have a list-of-list\u001b[0m\u001b[1;33m\u001b[0m\u001b[1;33m\u001b[0m\u001b[0m\n\u001b[1;32m-> 2293\u001b[1;33m                 \u001b[0mresult\u001b[0m\u001b[1;33m[\u001b[0m\u001b[1;33m:\u001b[0m\u001b[1;33m]\u001b[0m \u001b[1;33m=\u001b[0m \u001b[1;33m[\u001b[0m\u001b[0mtuple\u001b[0m\u001b[1;33m(\u001b[0m\u001b[0mx\u001b[0m\u001b[1;33m)\u001b[0m \u001b[1;32mfor\u001b[0m \u001b[0mx\u001b[0m \u001b[1;32min\u001b[0m \u001b[0mvalues\u001b[0m\u001b[1;33m]\u001b[0m\u001b[1;33m\u001b[0m\u001b[0m\n\u001b[0m\u001b[0;32m   2294\u001b[0m \u001b[1;33m\u001b[0m\u001b[0m\n\u001b[0;32m   2295\u001b[0m     \u001b[1;32mreturn\u001b[0m \u001b[0mresult\u001b[0m\u001b[1;33m\u001b[0m\u001b[0m\n",
        "\u001b[1;31mValueError\u001b[0m: cannot copy sequence with size 6 to array axis with dimension 73"
       ]
      }
     ],
     "prompt_number": 8
    },
    {
     "cell_type": "code",
     "collapsed": true,
     "input": [],
     "language": "python",
     "metadata": {},
     "outputs": []
    },
    {
     "cell_type": "code",
     "collapsed": false,
     "input": [],
     "language": "python",
     "metadata": {},
     "outputs": []
    }
   ],
   "metadata": {}
  }
 ]
}