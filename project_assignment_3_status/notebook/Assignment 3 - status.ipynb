{
 "metadata": {
  "name": "",
  "signature": "sha256:e8ce3c2cf0328a3a9b23228646030f02255ad5f09aa0837fd112f01ad6ba8333"
 },
 "nbformat": 3,
 "nbformat_minor": 0,
 "worksheets": [
  {
   "cells": [
    {
     "cell_type": "markdown",
     "metadata": {},
     "source": [
      "Ipython notebook for all that we do, starting 28th Oct 2014"
     ]
    },
    {
     "cell_type": "code",
     "collapsed": false,
     "input": [
      "import pandas as pd\n",
      "from pandas import Series, DataFrame\n",
      "import numpy as np"
     ],
     "language": "python",
     "metadata": {},
     "outputs": [],
     "prompt_number": 1
    },
    {
     "cell_type": "markdown",
     "metadata": {},
     "source": [
      "Loading Life Tables 2010 for both Males and Females"
     ]
    },
    {
     "cell_type": "code",
     "collapsed": false,
     "input": [
      "m_life_df = pd.read_csv('../data/Period_Life_Table_Male_2010.csv')\n",
      "f_life_df = pd.read_csv('../data/Period_Life_Table_Female_2010.csv')\n",
      "df = pd.read_csv('../data/nndb_data.csv')"
     ],
     "language": "python",
     "metadata": {},
     "outputs": [],
     "prompt_number": 2
    },
    {
     "cell_type": "markdown",
     "metadata": {},
     "source": [
      "Renaming columns for convinience"
     ]
    },
    {
     "cell_type": "code",
     "collapsed": false,
     "input": [
      "m_life_df.columns = ['Age', 'Death_Probability']\n",
      "f_life_df.columns = ['Age', 'Death_Probability']"
     ],
     "language": "python",
     "metadata": {},
     "outputs": [],
     "prompt_number": 3
    },
    {
     "cell_type": "markdown",
     "metadata": {},
     "source": [
      "Selecting only certain attributes from the entire dataset"
     ]
    },
    {
     "cell_type": "code",
     "collapsed": false,
     "input": [
      "all_data = df[['Name','gender','is alive', 'age']]"
     ],
     "language": "python",
     "metadata": {},
     "outputs": [],
     "prompt_number": 4
    },
    {
     "cell_type": "code",
     "collapsed": false,
     "input": [],
     "language": "python",
     "metadata": {},
     "outputs": [],
     "prompt_number": 4
    },
    {
     "cell_type": "code",
     "collapsed": false,
     "input": [],
     "language": "python",
     "metadata": {},
     "outputs": [],
     "prompt_number": 4
    }
   ],
   "metadata": {}
  }
 ]
}