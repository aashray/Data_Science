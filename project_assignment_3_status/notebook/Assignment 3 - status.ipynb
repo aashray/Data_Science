{
 "metadata": {
  "name": "",
  "signature": "sha256:fc6c799489151976530a2d8e04a588c51cb05f7c9326cfdbb7e6c19c4bcd11da"
 },
 "nbformat": 3,
 "nbformat_minor": 0,
 "worksheets": [
  {
   "cells": [
    {
     "cell_type": "markdown",
     "metadata": {},
     "source": [
      "Ipython notebook for all that we do, starting 28th Oct 2014"
     ]
    },
    {
     "cell_type": "code",
     "collapsed": false,
     "input": [
      "import pandas as pd\n",
      "from pandas import Series, DataFrame\n",
      "import numpy as np\n",
      "from sklearn import preprocessing"
     ],
     "language": "python",
     "metadata": {},
     "outputs": [],
     "prompt_number": 1
    },
    {
     "cell_type": "markdown",
     "metadata": {},
     "source": [
      "Loading Life Tables 2010 for both Males and Females"
     ]
    },
    {
     "cell_type": "code",
     "collapsed": false,
     "input": [
      "m_life_df = pd.read_csv('../data/Period_Life_Table_Male_2010.csv')\n",
      "f_life_df = pd.read_csv('../data/Period_Life_Table_Female_2010.csv')\n",
      "df = pd.read_csv('../data/nndb_data.csv')\n",
      "actual_data = pd.read_csv('../data/probabilities.csv')"
     ],
     "language": "python",
     "metadata": {},
     "outputs": [],
     "prompt_number": 2
    },
    {
     "cell_type": "markdown",
     "metadata": {},
     "source": [
      "Renaming columns for convinience"
     ]
    },
    {
     "cell_type": "code",
     "collapsed": false,
     "input": [
      "m_life_df.columns = ['Age', 'Death_Probability']\n",
      "f_life_df.columns = ['Age', 'Death_Probability']"
     ],
     "language": "python",
     "metadata": {},
     "outputs": [],
     "prompt_number": 3
    },
    {
     "cell_type": "markdown",
     "metadata": {},
     "source": [
      "Selecting only certain attributes from the entire dataset"
     ]
    },
    {
     "cell_type": "code",
     "collapsed": false,
     "input": [
      "all_data = df[['Name','gender','is alive', 'age']]"
     ],
     "language": "python",
     "metadata": {},
     "outputs": [],
     "prompt_number": 4
    },
    {
     "cell_type": "code",
     "collapsed": false,
     "input": [
      "arr = np.array(actual_data['PROBABILITY OF DEATH'])\n",
      "sum_prob = arr.sum()\n",
      "final = []\n",
      "\n",
      "for i in arr:\n",
      "    val = i/sum_prob\n",
      "    final.append(val)\n",
      "    \n",
      "normalized = np.asarray(final)\n",
      "#s = f.sum().round(2)\n",
      "#print s\n",
      "\n",
      "actual_data['Normalized'] = normalized\n",
      "# print actual_data"
     ],
     "language": "python",
     "metadata": {},
     "outputs": [],
     "prompt_number": 5
    }
   ],
   "metadata": {}
  }
 ]
}