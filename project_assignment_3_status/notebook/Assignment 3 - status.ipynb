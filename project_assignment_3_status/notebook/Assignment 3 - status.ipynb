{
 "metadata": {
  "name": "",
  "signature": "sha256:8dff7c090d3e4d6bd5a5a4a8bb69933776385746afefafd172f80988008dde38"
 },
 "nbformat": 3,
 "nbformat_minor": 0,
 "worksheets": [
  {
   "cells": [
    {
     "cell_type": "markdown",
     "metadata": {},
     "source": [
      "Ipython notebook for all that we do, starting 28th Oct 2014"
     ]
    },
    {
     "cell_type": "code",
     "collapsed": false,
     "input": [
      "import pandas as pd\n",
      "from pandas import Series, DataFrame\n",
      "import numpy as np"
     ],
     "language": "python",
     "metadata": {},
     "outputs": [],
     "prompt_number": 22
    },
    {
     "cell_type": "markdown",
     "metadata": {},
     "source": [
      "Loading Life Tables 2010 for both Males and Females"
     ]
    },
    {
     "cell_type": "code",
     "collapsed": false,
     "input": [
      "m_life_df = pd.read_csv('../data/Period_Life_Table_Male_2010.csv')\n",
      "f_life_df = pd.read_csv('../data/Period_Life_Table_Female_2010.csv')\n",
      "df = pd.read_csv('../data/nndb_data.csv')"
     ],
     "language": "python",
     "metadata": {},
     "outputs": [],
     "prompt_number": 23
    },
    {
     "cell_type": "markdown",
     "metadata": {},
     "source": [
      "Renaming columns for convinience"
     ]
    },
    {
     "cell_type": "code",
     "collapsed": false,
     "input": [
      "m_life_df.columns = ['Age', 'Death_Probability']\n",
      "f_life_df.columns = ['Age', 'Death_Probability']"
     ],
     "language": "python",
     "metadata": {},
     "outputs": [],
     "prompt_number": 24
    },
    {
     "cell_type": "markdown",
     "metadata": {},
     "source": [
      "Selecting only certain attributes from the entire dataset"
     ]
    },
    {
     "cell_type": "code",
     "collapsed": false,
     "input": [
      "all_data = df[['Name','gender','is alive', 'age']]"
     ],
     "language": "python",
     "metadata": {},
     "outputs": [],
     "prompt_number": 27
    },
    {
     "cell_type": "code",
     "collapsed": false,
     "input": [],
     "language": "python",
     "metadata": {},
     "outputs": [],
     "prompt_number": 27
    },
    {
     "cell_type": "code",
     "collapsed": false,
     "input": [],
     "language": "python",
     "metadata": {},
     "outputs": []
    }
   ],
   "metadata": {}
  }
 ]
}