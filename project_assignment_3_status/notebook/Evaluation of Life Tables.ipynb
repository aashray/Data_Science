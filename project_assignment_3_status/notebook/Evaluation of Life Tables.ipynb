{
 "metadata": {
  "name": "",
  "signature": "sha256:da18996bd7043db78aad6ade79e7bd01f5b4d54dfddcb6f1845ec858f6974e58"
 },
 "nbformat": 3,
 "nbformat_minor": 0,
 "worksheets": [
  {
   "cells": [
    {
     "cell_type": "code",
     "collapsed": false,
     "input": [
      "import pandas as pd\n",
      "from pandas import Series, DataFrame\n",
      "import numpy as np"
     ],
     "language": "python",
     "metadata": {},
     "outputs": [],
     "prompt_number": 2
    },
    {
     "cell_type": "code",
     "collapsed": false,
     "input": [
      "dead = pd.read_csv('../data/evaluation_data_dead.csv')\n",
      "alive = pd.read_csv('../data/evaluation_data_alive.csv')"
     ],
     "language": "python",
     "metadata": {},
     "outputs": [],
     "prompt_number": 3
    },
    {
     "cell_type": "code",
     "collapsed": false,
     "input": [],
     "language": "python",
     "metadata": {},
     "outputs": []
    }
   ],
   "metadata": {}
  }
 ]
}