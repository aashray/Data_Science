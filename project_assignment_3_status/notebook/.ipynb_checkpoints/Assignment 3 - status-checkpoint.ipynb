{
 "metadata": {
  "name": "",
  "signature": "sha256:897d75e8952cfb01511d9cf7cb5a80b1c5bf344bd5e7404c756c5b61b45c2751"
 },
 "nbformat": 3,
 "nbformat_minor": 0,
 "worksheets": [
  {
   "cells": [
    {
     "cell_type": "markdown",
     "metadata": {},
     "source": [
      "Ipython notebook for all that we do, starting 28th Oct 2014"
     ]
    },
    {
     "cell_type": "code",
     "collapsed": false,
     "input": [
      "import pandas as pd\n",
      "from pandas import Series, DataFrame\n",
      "import numpy as np"
     ],
     "language": "python",
     "metadata": {},
     "outputs": [],
     "prompt_number": 3
    },
    {
     "cell_type": "markdown",
     "metadata": {},
     "source": [
      "Loading Life Tables 2010 for both Males and Females"
     ]
    },
    {
     "cell_type": "code",
     "collapsed": false,
     "input": [
      "m_life_df = pd.read_csv('../data/Period_Life_Table_Male_2010.csv')\n",
      "f_life_df = pd.read_csv('../data/Period_Life_Table_Female_2010.csv')\n",
      "df = pd.read_csv('../data/nndb_data.csv')\n",
      "actual_data = pd.read_csv('../data/probabilities.csv')"
     ],
     "language": "python",
     "metadata": {},
     "outputs": [],
     "prompt_number": 4
    },
    {
     "cell_type": "markdown",
     "metadata": {},
     "source": [
      "Renaming columns for convinience"
     ]
    },
    {
     "cell_type": "code",
     "collapsed": false,
     "input": [
      "m_life_df.columns = ['Age', 'Death_Probability']\n",
      "f_life_df.columns = ['Age', 'Death_Probability']\n",
      "m_life_df"
     ],
     "language": "python",
     "metadata": {},
     "outputs": [
      {
       "html": [
        "<div style=\"max-height:1000px;max-width:1500px;overflow:auto;\">\n",
        "<table border=\"1\" class=\"dataframe\">\n",
        "  <thead>\n",
        "    <tr style=\"text-align: right;\">\n",
        "      <th></th>\n",
        "      <th>Age</th>\n",
        "      <th>Death_Probability</th>\n",
        "    </tr>\n",
        "  </thead>\n",
        "  <tbody>\n",
        "    <tr>\n",
        "      <th>0  </th>\n",
        "      <td>   0</td>\n",
        "      <td> 0.00587</td>\n",
        "    </tr>\n",
        "    <tr>\n",
        "      <th>1  </th>\n",
        "      <td>   1</td>\n",
        "      <td> 0.00040</td>\n",
        "    </tr>\n",
        "    <tr>\n",
        "      <th>2  </th>\n",
        "      <td>   2</td>\n",
        "      <td> 0.00027</td>\n",
        "    </tr>\n",
        "    <tr>\n",
        "      <th>3  </th>\n",
        "      <td>   3</td>\n",
        "      <td> 0.00023</td>\n",
        "    </tr>\n",
        "    <tr>\n",
        "      <th>4  </th>\n",
        "      <td>   4</td>\n",
        "      <td> 0.00018</td>\n",
        "    </tr>\n",
        "    <tr>\n",
        "      <th>5  </th>\n",
        "      <td>   5</td>\n",
        "      <td> 0.00016</td>\n",
        "    </tr>\n",
        "    <tr>\n",
        "      <th>6  </th>\n",
        "      <td>   6</td>\n",
        "      <td> 0.00015</td>\n",
        "    </tr>\n",
        "    <tr>\n",
        "      <th>7  </th>\n",
        "      <td>   7</td>\n",
        "      <td> 0.00014</td>\n",
        "    </tr>\n",
        "    <tr>\n",
        "      <th>8  </th>\n",
        "      <td>   8</td>\n",
        "      <td> 0.00012</td>\n",
        "    </tr>\n",
        "    <tr>\n",
        "      <th>9  </th>\n",
        "      <td>   9</td>\n",
        "      <td> 0.00010</td>\n",
        "    </tr>\n",
        "    <tr>\n",
        "      <th>10 </th>\n",
        "      <td>  10</td>\n",
        "      <td> 0.00009</td>\n",
        "    </tr>\n",
        "    <tr>\n",
        "      <th>11 </th>\n",
        "      <td>  11</td>\n",
        "      <td> 0.00010</td>\n",
        "    </tr>\n",
        "    <tr>\n",
        "      <th>12 </th>\n",
        "      <td>  12</td>\n",
        "      <td> 0.00015</td>\n",
        "    </tr>\n",
        "    <tr>\n",
        "      <th>13 </th>\n",
        "      <td>  13</td>\n",
        "      <td> 0.00025</td>\n",
        "    </tr>\n",
        "    <tr>\n",
        "      <th>14 </th>\n",
        "      <td>  14</td>\n",
        "      <td> 0.00040</td>\n",
        "    </tr>\n",
        "    <tr>\n",
        "      <th>15 </th>\n",
        "      <td>  15</td>\n",
        "      <td> 0.00056</td>\n",
        "    </tr>\n",
        "    <tr>\n",
        "      <th>16 </th>\n",
        "      <td>  16</td>\n",
        "      <td> 0.00071</td>\n",
        "    </tr>\n",
        "    <tr>\n",
        "      <th>17 </th>\n",
        "      <td>  17</td>\n",
        "      <td> 0.00084</td>\n",
        "    </tr>\n",
        "    <tr>\n",
        "      <th>18 </th>\n",
        "      <td>  18</td>\n",
        "      <td> 0.00095</td>\n",
        "    </tr>\n",
        "    <tr>\n",
        "      <th>19 </th>\n",
        "      <td>  19</td>\n",
        "      <td> 0.00104</td>\n",
        "    </tr>\n",
        "    <tr>\n",
        "      <th>20 </th>\n",
        "      <td>  20</td>\n",
        "      <td> 0.00113</td>\n",
        "    </tr>\n",
        "    <tr>\n",
        "      <th>21 </th>\n",
        "      <td>  21</td>\n",
        "      <td> 0.00121</td>\n",
        "    </tr>\n",
        "    <tr>\n",
        "      <th>22 </th>\n",
        "      <td>  22</td>\n",
        "      <td> 0.00126</td>\n",
        "    </tr>\n",
        "    <tr>\n",
        "      <th>23 </th>\n",
        "      <td>  23</td>\n",
        "      <td> 0.00125</td>\n",
        "    </tr>\n",
        "    <tr>\n",
        "      <th>24 </th>\n",
        "      <td>  24</td>\n",
        "      <td> 0.00120</td>\n",
        "    </tr>\n",
        "    <tr>\n",
        "      <th>25 </th>\n",
        "      <td>  25</td>\n",
        "      <td> 0.00114</td>\n",
        "    </tr>\n",
        "    <tr>\n",
        "      <th>26 </th>\n",
        "      <td>  26</td>\n",
        "      <td> 0.00109</td>\n",
        "    </tr>\n",
        "    <tr>\n",
        "      <th>27 </th>\n",
        "      <td>  27</td>\n",
        "      <td> 0.00106</td>\n",
        "    </tr>\n",
        "    <tr>\n",
        "      <th>28 </th>\n",
        "      <td>  28</td>\n",
        "      <td> 0.00107</td>\n",
        "    </tr>\n",
        "    <tr>\n",
        "      <th>29 </th>\n",
        "      <td>  29</td>\n",
        "      <td> 0.00111</td>\n",
        "    </tr>\n",
        "    <tr>\n",
        "      <th>...</th>\n",
        "      <td>...</td>\n",
        "      <td>...</td>\n",
        "    </tr>\n",
        "    <tr>\n",
        "      <th>90 </th>\n",
        "      <td>  90</td>\n",
        "      <td> 0.19307</td>\n",
        "    </tr>\n",
        "    <tr>\n",
        "      <th>91 </th>\n",
        "      <td>  91</td>\n",
        "      <td> 0.21141</td>\n",
        "    </tr>\n",
        "    <tr>\n",
        "      <th>92 </th>\n",
        "      <td>  92</td>\n",
        "      <td> 0.23086</td>\n",
        "    </tr>\n",
        "    <tr>\n",
        "      <th>93 </th>\n",
        "      <td>  93</td>\n",
        "      <td> 0.25138</td>\n",
        "    </tr>\n",
        "    <tr>\n",
        "      <th>94 </th>\n",
        "      <td>  94</td>\n",
        "      <td> 0.27296</td>\n",
        "    </tr>\n",
        "    <tr>\n",
        "      <th>95 </th>\n",
        "      <td>  95</td>\n",
        "      <td> 0.29443</td>\n",
        "    </tr>\n",
        "    <tr>\n",
        "      <th>96 </th>\n",
        "      <td>  96</td>\n",
        "      <td> 0.31547</td>\n",
        "    </tr>\n",
        "    <tr>\n",
        "      <th>97 </th>\n",
        "      <td>  97</td>\n",
        "      <td> 0.33577</td>\n",
        "    </tr>\n",
        "    <tr>\n",
        "      <th>98 </th>\n",
        "      <td>  98</td>\n",
        "      <td> 0.35496</td>\n",
        "    </tr>\n",
        "    <tr>\n",
        "      <th>99 </th>\n",
        "      <td>  99</td>\n",
        "      <td> 0.37271</td>\n",
        "    </tr>\n",
        "    <tr>\n",
        "      <th>100</th>\n",
        "      <td> 100</td>\n",
        "      <td> 0.39134</td>\n",
        "    </tr>\n",
        "    <tr>\n",
        "      <th>101</th>\n",
        "      <td> 101</td>\n",
        "      <td> 0.41091</td>\n",
        "    </tr>\n",
        "    <tr>\n",
        "      <th>102</th>\n",
        "      <td> 102</td>\n",
        "      <td> 0.43146</td>\n",
        "    </tr>\n",
        "    <tr>\n",
        "      <th>103</th>\n",
        "      <td> 103</td>\n",
        "      <td> 0.45303</td>\n",
        "    </tr>\n",
        "    <tr>\n",
        "      <th>104</th>\n",
        "      <td> 104</td>\n",
        "      <td> 0.47568</td>\n",
        "    </tr>\n",
        "    <tr>\n",
        "      <th>105</th>\n",
        "      <td> 105</td>\n",
        "      <td> 0.49947</td>\n",
        "    </tr>\n",
        "    <tr>\n",
        "      <th>106</th>\n",
        "      <td> 106</td>\n",
        "      <td> 0.52444</td>\n",
        "    </tr>\n",
        "    <tr>\n",
        "      <th>107</th>\n",
        "      <td> 107</td>\n",
        "      <td> 0.55066</td>\n",
        "    </tr>\n",
        "    <tr>\n",
        "      <th>108</th>\n",
        "      <td> 108</td>\n",
        "      <td> 0.57819</td>\n",
        "    </tr>\n",
        "    <tr>\n",
        "      <th>109</th>\n",
        "      <td> 109</td>\n",
        "      <td> 0.60710</td>\n",
        "    </tr>\n",
        "    <tr>\n",
        "      <th>110</th>\n",
        "      <td> 110</td>\n",
        "      <td> 0.63746</td>\n",
        "    </tr>\n",
        "    <tr>\n",
        "      <th>111</th>\n",
        "      <td> 111</td>\n",
        "      <td> 0.66933</td>\n",
        "    </tr>\n",
        "    <tr>\n",
        "      <th>112</th>\n",
        "      <td> 112</td>\n",
        "      <td> 0.70280</td>\n",
        "    </tr>\n",
        "    <tr>\n",
        "      <th>113</th>\n",
        "      <td> 113</td>\n",
        "      <td> 0.73794</td>\n",
        "    </tr>\n",
        "    <tr>\n",
        "      <th>114</th>\n",
        "      <td> 114</td>\n",
        "      <td> 0.77483</td>\n",
        "    </tr>\n",
        "    <tr>\n",
        "      <th>115</th>\n",
        "      <td> 115</td>\n",
        "      <td> 0.81358</td>\n",
        "    </tr>\n",
        "    <tr>\n",
        "      <th>116</th>\n",
        "      <td> 116</td>\n",
        "      <td> 0.85425</td>\n",
        "    </tr>\n",
        "    <tr>\n",
        "      <th>117</th>\n",
        "      <td> 117</td>\n",
        "      <td> 0.89697</td>\n",
        "    </tr>\n",
        "    <tr>\n",
        "      <th>118</th>\n",
        "      <td> 118</td>\n",
        "      <td> 0.94182</td>\n",
        "    </tr>\n",
        "    <tr>\n",
        "      <th>119</th>\n",
        "      <td> 119</td>\n",
        "      <td> 0.98891</td>\n",
        "    </tr>\n",
        "  </tbody>\n",
        "</table>\n",
        "<p>120 rows \u00d7 2 columns</p>\n",
        "</div>"
       ],
       "metadata": {},
       "output_type": "pyout",
       "prompt_number": 5,
       "text": [
        "     Age  Death_Probability\n",
        "0      0            0.00587\n",
        "1      1            0.00040\n",
        "2      2            0.00027\n",
        "3      3            0.00023\n",
        "4      4            0.00018\n",
        "5      5            0.00016\n",
        "6      6            0.00015\n",
        "7      7            0.00014\n",
        "8      8            0.00012\n",
        "9      9            0.00010\n",
        "10    10            0.00009\n",
        "11    11            0.00010\n",
        "12    12            0.00015\n",
        "13    13            0.00025\n",
        "14    14            0.00040\n",
        "15    15            0.00056\n",
        "16    16            0.00071\n",
        "17    17            0.00084\n",
        "18    18            0.00095\n",
        "19    19            0.00104\n",
        "20    20            0.00113\n",
        "21    21            0.00121\n",
        "22    22            0.00126\n",
        "23    23            0.00125\n",
        "24    24            0.00120\n",
        "25    25            0.00114\n",
        "26    26            0.00109\n",
        "27    27            0.00106\n",
        "28    28            0.00107\n",
        "29    29            0.00111\n",
        "..   ...                ...\n",
        "90    90            0.19307\n",
        "91    91            0.21141\n",
        "92    92            0.23086\n",
        "93    93            0.25138\n",
        "94    94            0.27296\n",
        "95    95            0.29443\n",
        "96    96            0.31547\n",
        "97    97            0.33577\n",
        "98    98            0.35496\n",
        "99    99            0.37271\n",
        "100  100            0.39134\n",
        "101  101            0.41091\n",
        "102  102            0.43146\n",
        "103  103            0.45303\n",
        "104  104            0.47568\n",
        "105  105            0.49947\n",
        "106  106            0.52444\n",
        "107  107            0.55066\n",
        "108  108            0.57819\n",
        "109  109            0.60710\n",
        "110  110            0.63746\n",
        "111  111            0.66933\n",
        "112  112            0.70280\n",
        "113  113            0.73794\n",
        "114  114            0.77483\n",
        "115  115            0.81358\n",
        "116  116            0.85425\n",
        "117  117            0.89697\n",
        "118  118            0.94182\n",
        "119  119            0.98891\n",
        "\n",
        "[120 rows x 2 columns]"
       ]
      }
     ],
     "prompt_number": 5
    },
    {
     "cell_type": "markdown",
     "metadata": {},
     "source": [
      "Selecting only certain attributes from the entire dataset"
     ]
    },
    {
     "cell_type": "code",
     "collapsed": false,
     "input": [
      "all_data = df[['Name','gender','is alive', 'age']]\n",
      "all_data['gender'] = all_data['gender'].map(str.strip)"
     ],
     "language": "python",
     "metadata": {},
     "outputs": [
      {
       "output_type": "stream",
       "stream": "stderr",
       "text": [
        "-c:2: SettingWithCopyWarning: \n",
        "A value is trying to be set on a copy of a slice from a DataFrame.\n",
        "Try using .loc[row_indexer,col_indexer] = value instead\n",
        "\n",
        "See the the caveats in the documentation: http://pandas.pydata.org/pandas-docs/stable/indexing.html#indexing-view-versus-copy\n"
       ]
      }
     ],
     "prompt_number": 6
    },
    {
     "cell_type": "code",
     "collapsed": false,
     "input": [
      "#all_data"
     ],
     "language": "python",
     "metadata": {},
     "outputs": [],
     "prompt_number": 7
    },
    {
     "cell_type": "code",
     "collapsed": false,
     "input": [
      "males_data = all_data[all_data['gender']=='Male']\n",
      "females_data = all_data[all_data['gender']=='Female']"
     ],
     "language": "python",
     "metadata": {},
     "outputs": [],
     "prompt_number": 8
    },
    {
     "cell_type": "code",
     "collapsed": false,
     "input": [
      "#males_data\n",
      "males_data['Death_Probability'] = 0\n",
      "#males_data['Death_Probability']= m_life_df['Death_Probability'].where(m_life_df['Age']==males_data['age'])\n",
      "#males_data['Death_Probability'] = males_data['age'].map(m_life_df['Death_Probability'])\n",
      "#males_data['Death_Probability']=males_data['Death_Probability'].map((lambda x : m_life_df['Death_Probability'].loc[x]))\n",
      "#males_data['Death_Probability'] = m_life_df['Death_Probability'].loc[males_data['age']]\n",
      "#males_data\n",
      "for i in males_data.index:\n",
      "    males_data['Death_Probability'].loc[i] = m_life_df['Death_Probability'].loc[males_data['age'].loc[i]]\n",
      "print males_data"
     ],
     "language": "python",
     "metadata": {},
     "outputs": [
      {
       "output_type": "stream",
       "stream": "stderr",
       "text": [
        "C:\\Users\\Varsha\\User\\lib\\site-packages\\pandas\\core\\indexing.py:121: SettingWithCopyWarning: \n",
        "A value is trying to be set on a copy of a slice from a DataFrame\n",
        "\n",
        "See the the caveats in the documentation: http://pandas.pydata.org/pandas-docs/stable/indexing.html#indexing-view-versus-copy\n",
        "  self._setitem_with_indexer(indexer, value)\n",
        "-c:9: SettingWithCopyWarning: \n",
        "A value is trying to be set on a copy of a slice from a DataFrame\n",
        "\n",
        "See the the caveats in the documentation: http://pandas.pydata.org/pandas-docs/stable/indexing.html#indexing-view-versus-copy\n"
       ]
      },
      {
       "ename": "KeyboardInterrupt",
       "evalue": "",
       "output_type": "pyerr",
       "traceback": [
        "\u001b[1;31m---------------------------------------------------------------------------\u001b[0m\n\u001b[1;31mKeyboardInterrupt\u001b[0m                         Traceback (most recent call last)",
        "\u001b[1;32m<ipython-input-9-443fd5267eb9>\u001b[0m in \u001b[0;36m<module>\u001b[1;34m()\u001b[0m\n\u001b[0;32m      7\u001b[0m \u001b[1;31m#males_data\u001b[0m\u001b[1;33m\u001b[0m\u001b[1;33m\u001b[0m\u001b[0m\n\u001b[0;32m      8\u001b[0m \u001b[1;32mfor\u001b[0m \u001b[0mi\u001b[0m \u001b[1;32min\u001b[0m \u001b[0mmales_data\u001b[0m\u001b[1;33m.\u001b[0m\u001b[0mindex\u001b[0m\u001b[1;33m:\u001b[0m\u001b[1;33m\u001b[0m\u001b[0m\n\u001b[1;32m----> 9\u001b[1;33m     \u001b[0mmales_data\u001b[0m\u001b[1;33m[\u001b[0m\u001b[1;34m'Death_Probability'\u001b[0m\u001b[1;33m]\u001b[0m\u001b[1;33m.\u001b[0m\u001b[0mloc\u001b[0m\u001b[1;33m[\u001b[0m\u001b[0mi\u001b[0m\u001b[1;33m]\u001b[0m \u001b[1;33m=\u001b[0m \u001b[0mm_life_df\u001b[0m\u001b[1;33m[\u001b[0m\u001b[1;34m'Death_Probability'\u001b[0m\u001b[1;33m]\u001b[0m\u001b[1;33m.\u001b[0m\u001b[0mloc\u001b[0m\u001b[1;33m[\u001b[0m\u001b[0mmales_data\u001b[0m\u001b[1;33m[\u001b[0m\u001b[1;34m'age'\u001b[0m\u001b[1;33m]\u001b[0m\u001b[1;33m.\u001b[0m\u001b[0mloc\u001b[0m\u001b[1;33m[\u001b[0m\u001b[0mi\u001b[0m\u001b[1;33m]\u001b[0m\u001b[1;33m]\u001b[0m\u001b[1;33m\u001b[0m\u001b[0m\n\u001b[0m\u001b[0;32m     10\u001b[0m \u001b[1;32mprint\u001b[0m \u001b[0mmales_data\u001b[0m\u001b[1;33m\u001b[0m\u001b[0m\n",
        "\u001b[1;32mC:\\Users\\Varsha\\User\\lib\\site-packages\\pandas\\core\\indexing.pyc\u001b[0m in \u001b[0;36m__setitem__\u001b[1;34m(self, key, value)\u001b[0m\n\u001b[0;32m    119\u001b[0m                 \u001b[0mindexer\u001b[0m \u001b[1;33m=\u001b[0m \u001b[0mself\u001b[0m\u001b[1;33m.\u001b[0m\u001b[0m_convert_to_indexer\u001b[0m\u001b[1;33m(\u001b[0m\u001b[0mkey\u001b[0m\u001b[1;33m,\u001b[0m \u001b[0mis_setter\u001b[0m\u001b[1;33m=\u001b[0m\u001b[0mTrue\u001b[0m\u001b[1;33m)\u001b[0m\u001b[1;33m\u001b[0m\u001b[0m\n\u001b[0;32m    120\u001b[0m \u001b[1;33m\u001b[0m\u001b[0m\n\u001b[1;32m--> 121\u001b[1;33m         \u001b[0mself\u001b[0m\u001b[1;33m.\u001b[0m\u001b[0m_setitem_with_indexer\u001b[0m\u001b[1;33m(\u001b[0m\u001b[0mindexer\u001b[0m\u001b[1;33m,\u001b[0m \u001b[0mvalue\u001b[0m\u001b[1;33m)\u001b[0m\u001b[1;33m\u001b[0m\u001b[0m\n\u001b[0m\u001b[0;32m    122\u001b[0m \u001b[1;33m\u001b[0m\u001b[0m\n\u001b[0;32m    123\u001b[0m     \u001b[1;32mdef\u001b[0m \u001b[0m_has_valid_type\u001b[0m\u001b[1;33m(\u001b[0m\u001b[0mself\u001b[0m\u001b[1;33m,\u001b[0m \u001b[0mk\u001b[0m\u001b[1;33m,\u001b[0m \u001b[0maxis\u001b[0m\u001b[1;33m)\u001b[0m\u001b[1;33m:\u001b[0m\u001b[1;33m\u001b[0m\u001b[0m\n",
        "\u001b[1;31mKeyboardInterrupt\u001b[0m: "
       ]
      }
     ],
     "prompt_number": 9
    },
    {
     "cell_type": "code",
     "collapsed": false,
     "input": [
      "females_data['Death_Probability'] = 0\n",
      "for i in females_data.index:\n",
      "    females_data['Death_Probability'].loc[i] = f_life_df['Death_Probability'].loc[females_data['age'].loc[i]]\n",
      "print females_data"
     ],
     "language": "python",
     "metadata": {},
     "outputs": []
    },
    {
     "cell_type": "markdown",
     "metadata": {},
     "source": [
      "Got death probabilities for each of the 25867(NNDB) persons ! Based on SSA Life tables."
     ]
    },
    {
     "cell_type": "code",
     "collapsed": false,
     "input": [
      "arr = np.array(actual_data['PROBABILITY OF DEATH'])\n",
      "sum_prob = arr.sum()\n",
      "final = []\n",
      "\n",
      "for i in arr:\n",
      "    val = i/sum_prob\n",
      "    final.append(val)\n",
      "\n",
      "normalized = np.asarray(final)\n",
      "#s = normalized.sum().round(2)\n",
      "#print s\n",
      "\n",
      "actual_data['Normalized'] = normalized\n",
      "#print actual_data"
     ],
     "language": "python",
     "metadata": {},
     "outputs": [],
     "prompt_number": 18
    },
    {
     "cell_type": "code",
     "collapsed": false,
     "input": [],
     "language": "python",
     "metadata": {},
     "outputs": []
    }
   ],
   "metadata": {}
  }
 ]
}