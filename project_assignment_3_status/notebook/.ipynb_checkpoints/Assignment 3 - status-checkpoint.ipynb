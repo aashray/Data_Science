{
 "metadata": {
  "name": "",
  "signature": "sha256:d5d1ab8a3d260a19ef0101936a58b8f87917565bd8a589e4dea2eb92ac35b821"
 },
 "nbformat": 3,
 "nbformat_minor": 0,
 "worksheets": [
  {
   "cells": [
    {
     "cell_type": "markdown",
     "metadata": {},
     "source": [
      "Ipython notebook for all that we do, starting 28th Oct 2014"
     ]
    },
    {
     "cell_type": "code",
     "collapsed": false,
     "input": [
      "import pandas as pd\n",
      "from pandas import Series, DataFrame\n",
      "import numpy as np\n",
      "from sklearn import preprocessing"
     ],
     "language": "python",
     "metadata": {},
     "outputs": [],
     "prompt_number": 33
    },
    {
     "cell_type": "markdown",
     "metadata": {},
     "source": [
      "Loading Life Tables 2010 for both Males and Females"
     ]
    },
    {
     "cell_type": "code",
     "collapsed": false,
     "input": [
      "m_life_df = pd.read_csv('../data/Period_Life_Table_Male_2010.csv')\n",
      "f_life_df = pd.read_csv('../data/Period_Life_Table_Female_2010.csv')\n",
      "df = pd.read_csv('../data/nndb_data.csv')\n",
      "actual_data = pd.read_csv('../data/probabilities.csv')"
     ],
     "language": "python",
     "metadata": {},
     "outputs": [],
     "prompt_number": 34
    },
    {
     "cell_type": "markdown",
     "metadata": {},
     "source": [
      "Renaming columns for convinience"
     ]
    },
    {
     "cell_type": "code",
     "collapsed": false,
     "input": [
      "m_life_df.columns = ['Age', 'Death_Probability']\n",
      "f_life_df.columns = ['Age', 'Death_Probability']"
     ],
     "language": "python",
     "metadata": {},
     "outputs": [],
     "prompt_number": 35
    },
    {
     "cell_type": "markdown",
     "metadata": {},
     "source": [
      "Selecting only certain attributes from the entire dataset"
     ]
    },
    {
     "cell_type": "code",
     "collapsed": false,
     "input": [
      "all_data = df[['Name','gender','is alive', 'age']]"
     ],
     "language": "python",
     "metadata": {},
     "outputs": [],
     "prompt_number": 86
    },
    {
     "cell_type": "code",
     "collapsed": false,
     "input": [
      "arr = np.array(actual_data['PROBABILITY OF DEATH'])\n",
      "prob = [arr]"
     ],
     "language": "python",
     "metadata": {},
     "outputs": [],
     "prompt_number": 87
    },
    {
     "cell_type": "code",
     "collapsed": false,
     "input": [
      "normalized = preprocessing.normalize(prob, norm='l2')"
     ],
     "language": "python",
     "metadata": {},
     "outputs": [],
     "prompt_number": 88
    },
    {
     "cell_type": "code",
     "collapsed": false,
     "input": [
      "sum = arr.sum()\n",
      "final = np.array([])"
     ],
     "language": "python",
     "metadata": {},
     "outputs": [],
     "prompt_number": 89
    },
    {
     "cell_type": "code",
     "collapsed": false,
     "input": [
      "for i in arr:\n",
      "    val = i/sum\n",
      "    print val\n",
      "    np.append(final, val)"
     ],
     "language": "python",
     "metadata": {},
     "outputs": [
      {
       "output_type": "stream",
       "stream": "stdout",
       "text": [
        "0.0539765485598\n",
        "0.0520647463676\n",
        "0.0518735661484\n",
        "0.0516823859291\n",
        "0.0516823859291\n",
        "0.0438439969411\n",
        "0.0433341830232\n",
        "0.0433341830232\n",
        "0.0433341830232\n",
        "0.0433341830232\n",
        "0.0418047412694\n",
        "0.0413586540913\n",
        "0.0378536834056\n",
        "0.0342212592404\n",
        "0.0313535559521\n",
        "0.0309074687739\n",
        "0.0309074687739\n",
        "0.0309074687739\n",
        "0.0309074687739\n",
        "0.0309074687739\n",
        "0.0291868468009\n",
        "0.0242798878409\n",
        "0.0202651032373\n",
        "0.0202651032373\n",
        "0.0187993882233\n",
        "0.0180346673464\n",
        "0.0131277083864\n",
        "0.00873056334438\n",
        "0.00873056334438\n",
        "0.00873056334438\n",
        "0.00783838898802\n",
        "0.00242161611012\n"
       ]
      }
     ],
     "prompt_number": 98
    },
    {
     "cell_type": "code",
     "collapsed": false,
     "input": [
      "print final"
     ],
     "language": "python",
     "metadata": {},
     "outputs": [
      {
       "output_type": "stream",
       "stream": "stdout",
       "text": [
        "[]\n"
       ]
      }
     ],
     "prompt_number": 99
    },
    {
     "cell_type": "code",
     "collapsed": false,
     "input": [],
     "language": "python",
     "metadata": {},
     "outputs": []
    }
   ],
   "metadata": {}
  }
 ]
}