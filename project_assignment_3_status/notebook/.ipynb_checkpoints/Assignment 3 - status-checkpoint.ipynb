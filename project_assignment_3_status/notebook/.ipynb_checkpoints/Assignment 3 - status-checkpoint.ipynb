{
 "metadata": {
  "name": "",
  "signature": "sha256:12b611fe8ef70b4bd851d435de6f2597937cf9485f10977802e87b4ebd9a84d3"
 },
 "nbformat": 3,
 "nbformat_minor": 0,
 "worksheets": [
  {
   "cells": [
    {
     "cell_type": "markdown",
     "metadata": {},
     "source": [
      "Ipython notebook for all that we do, starting 28th Oct 2014"
     ]
    }
   ],
   "metadata": {}
  }
 ]
}