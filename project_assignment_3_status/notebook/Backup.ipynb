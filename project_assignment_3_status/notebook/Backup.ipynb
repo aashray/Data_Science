{
"metadata": {
"name": "",
"signature": "sha256:8dff7c090d3e4d6bd5a5a4a8bb69933776385746afefafd172f80988008dde38"
},
"nbformat": 3,
"nbformat_minor": 0,
"input": [
"import pandas as pd\n",
"from pandas import Series, DataFrame\n",
"import numpy as np"
"import numpy as np\n",
"from sklearn import preprocessing"
],
"language": "python",
"metadata": {},
"outputs": [],
"prompt_number": 33
},
{
"cell_type": "markdown",
"input": [
"m_life_df = pd.read_csv('../data/Period_Life_Table_Male_2010.csv')\n",
"f_life_df = pd.read_csv('../data/Period_Life_Table_Female_2010.csv')\n",
"df = pd.read_csv('../data/nndb_data.csv')\n",
"actual_data = pd.read_csv('../data/probabilities.csv')"
],
"language": "python",
"metadata": {},
"outputs": [],
"prompt_number": 34
},
{
"cell_type": "markdown",
"language": "python",
"metadata": {},
"outputs": [],
"prompt_number": 35
},
{
"cell_type": "markdown",
"language": "python",
"metadata": {},
"outputs": [],
"prompt_number": 86
},
{
"cell_type": "code",
"collapsed": false,
"input": [],
"input": [
"arr = np.array(actual_data['PROBABILITY OF DEATH'])\n",
"prob = [arr]"
],
"language": "python",
"metadata": {},
"outputs": [],
"prompt_number": 87
},
{
"cell_type": "code",
"collapsed": false,
"input": [
"normalized = preprocessing.normalize(prob, norm='l2')"
],
"language": "python",
"metadata": {},
"outputs": [],
"prompt_number": 27
"prompt_number": 88
},
{
"cell_type": "code",
"collapsed": false,
"input": [
"sum = arr.sum()\n",
"final = np.array([])"
],
"language": "python",
"metadata": {},
"outputs": [],
"prompt_number": 89
},
{
"cell_type": "code",
"collapsed": false,
"input": [
"for i in arr:\n",
" val = i/sum\n",
" print val\n",
" np.append(final, val)"
],
"language": "python",
"metadata": {},
"outputs": [
{
"output_type": "stream",
"stream": "stdout",
"text": [
"0.0539765485598\n",
"0.0520647463676\n",
"0.0518735661484\n",
"0.0516823859291\n",
"0.0516823859291\n",
"0.0438439969411\n",
"0.0433341830232\n",
"0.0433341830232\n",
"0.0433341830232\n",
"0.0433341830232\n",
"0.0418047412694\n",
"0.0413586540913\n",
"0.0378536834056\n",
"0.0342212592404\n",
"0.0313535559521\n",
"0.0309074687739\n",
"0.0309074687739\n",
"0.0309074687739\n",
"0.0309074687739\n",
"0.0309074687739\n",
"0.0291868468009\n",
"0.0242798878409\n",
"0.0202651032373\n",
"0.0202651032373\n",
"0.0187993882233\n",
"0.0180346673464\n",
"0.0131277083864\n",
"0.00873056334438\n",
"0.00873056334438\n",
"0.00873056334438\n",
"0.00783838898802\n",
"0.00242161611012\n"
]
}
],
"prompt_number": 98
},
{
"cell_type": "code",
"collapsed": false,
"input": [
"print final"
],
"language": "python",
"metadata": {},
"outputs": [
{
"output_type": "stream",
"stream": "stdout",
"text": [
"[]\n"
]
}
],
"prompt_number": 99
},
{
"cell_type": "code",
{
"metadata": {
"name": "",
"signature": "sha256:fc6c799489151976530a2d8e04a588c51cb05f7c9326cfdbb7e6c19c4bcd11da"
},
"nbformat": 3,
"nbformat_minor": 0,
"input": [
"import pandas as pd\n",
"from pandas import Series, DataFrame\n",
"import numpy as np\n",
"from sklearn import preprocessing"
],
"language": "python",
"metadata": {},
"input": [
"m_life_df = pd.read_csv('../data/Period_Life_Table_Male_2010.csv')\n",
"f_life_df = pd.read_csv('../data/Period_Life_Table_Female_2010.csv')\n",
"df = pd.read_csv('../data/nndb_data.csv')\n",
"actual_data = pd.read_csv('../data/probabilities.csv')"
],
"language": "python",
"metadata": {},

{
"cell_type": "code",
"collapsed": false,
"input": [
"arr = np.array(actual_data['PROBABILITY OF DEATH'])\n",
"sum_prob = arr.sum()\n",
"final = []\n",
"\n",
"for i in arr:\n",
" val = i/sum_prob\n",
" final.append(val)\n",
" \n",
"normalized = np.asarray(final)\n",
"#s = f.sum().round(2)\n",
"#print s\n",
"\n",
"actual_data['Normalized'] = normalized\n",
"# print actual_data"
],
"language": "python",
"metadata": {},
"outputs": [],
"prompt_number": 5
}
],
"metadata": {}
