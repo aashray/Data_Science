{

 "metadata": {

  "name": "",

  "signature": "sha256:fdbc96eabeb88cfcbc789844d9c370757ea4fc12e113ccb0ff6b5164320649b7"

 },
 {
"cell_type": "code",
"collapsed": false,
"input": [],
"input": [
"arr = np.array(actual_data['PROBABILITY OF DEATH'])\n",
"sum_prob = arr.sum()\n",
"final = []\n",
"\n",
"for i in arr:\n",
" val = i/sum_prob\n",
" final.append(val)\n",
" \n",
"normalized = np.asarray(final)\n",
"#s = f.sum().round(2)\n",
"#print s\n",
"\n",
"actual_data['Normalized'] = normalized\n",
"# print actual_data"
],
"language": "python",
"metadata": {},
"outputs": [],
"prompt_number": 4
"prompt_number": 5
}

 "nbformat": 3,

 "nbformat_minor": 0,

 "worksheets": []

}
