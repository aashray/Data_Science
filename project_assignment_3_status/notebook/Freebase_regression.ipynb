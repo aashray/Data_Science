{
 "metadata": {
  "name": ""
 },
 "nbformat": 3,
 "nbformat_minor": 0,
 "worksheets": [
  {
   "cells": [
    {
     "cell_type": "code",
     "collapsed": false,
     "input": [
      "import pandas as pd\n",
      "from pandas import Series, DataFrame\n",
      "import numpy as np\n",
      "import pylab as pl\n",
      "import numpy as np\n",
      "from sklearn import datasets, linear_model\n",
      "import statsmodels.api as sm"
     ],
     "language": "python",
     "metadata": {},
     "outputs": [],
     "prompt_number": 18
    },
    {
     "cell_type": "code",
     "collapsed": false,
     "input": [
      "df_data2 = pd.read_csv('../data/freebase_cleaned_data.csv', error_bad_lines=False, delimiter='~')\n",
      "df_data = pd.read_csv('../data/freebasedata_profession.csv', error_bad_lines=False, delimiter='~')\n"
     ],
     "language": "python",
     "metadata": {},
     "outputs": [],
     "prompt_number": 9
    },
    {
     "cell_type": "code",
     "collapsed": false,
     "input": [
      "df_data.shape\n"
     ],
     "language": "python",
     "metadata": {},
     "outputs": [
      {
       "metadata": {},
       "output_type": "pyout",
       "prompt_number": 11,
       "text": [
        "(167481, 63)"
       ]
      }
     ],
     "prompt_number": 11
    },
    {
     "cell_type": "code",
     "collapsed": false,
     "input": [
      "#removing NaN values\n",
      "df_data2 = df_data2.replace('unknown', np.nan)\n",
      "df_data2 = df_data2.replace('none', np.nan)\n",
      "df_data2=df_data2.fillna(df_data2.median())"
     ],
     "language": "python",
     "metadata": {},
     "outputs": [],
     "prompt_number": 12
    },
    {
     "cell_type": "code",
     "collapsed": false,
     "input": [
      "#extracting fields for regression model\n",
      "df_data_X=pd.concat([df_data2['LifeExpectancy'],df_data2['gender'],df_data2['nationality_no'],df_data['profession1'],df_data2['Age']],axis=1)\n",
      "df_data_Y=pd.concat([df_data2['Age']],axis=1)"
     ],
     "language": "python",
     "metadata": {},
     "outputs": [],
     "prompt_number": 22
    },
    {
     "cell_type": "code",
     "collapsed": false,
     "input": [
      "print df_data_X.columns\n",
      "#Index([u'LifeExpectancy', u'gender', u'nationality_no', u'profession1'], dtype='object')\n",
      "fml = \"Age ~ 0 + gender + nationality_no + profession1+LifeExpectancy\"\n",
      "mod = sm.OLS.from_formula(fml, df_data_X)\n",
      "rslt = mod.fit()\n",
      "print rslt.summary()"
     ],
     "language": "python",
     "metadata": {},
     "outputs": [
      {
       "output_type": "stream",
       "stream": "stdout",
       "text": [
        "Index([u'LifeExpectancy', u'gender', u'nationality_no', u'profession1', u'Age'], dtype='object')\n",
        "                            OLS Regression Results                            \n",
        "==============================================================================\n",
        "Dep. Variable:                    Age   R-squared:                       0.415\n",
        "Model:                            OLS   Adj. R-squared:                  0.415\n",
        "Method:                 Least Squares   F-statistic:                 2.967e+04\n",
        "Date:                Wed, 12 Nov 2014   Prob (F-statistic):               0.00\n",
        "Time:                        04:09:08   Log-Likelihood:            -9.0742e+05\n",
        "No. Observations:              167481   AIC:                         1.815e+06\n",
        "Df Residuals:                  167477   BIC:                         1.815e+06\n",
        "Df Model:                           4                                         \n",
        "==================================================================================\n",
        "                     coef    std err          t      P>|t|      [95.0% Conf. Int.]\n",
        "----------------------------------------------------------------------------------\n",
        "gender            24.2059      0.463     52.301      0.000        23.299    25.113\n",
        "nationality_no     0.0599      0.001     48.171      0.000         0.057     0.062\n",
        "profession1       35.3053      0.367     96.163      0.000        34.586    36.025\n",
        "LifeExpectancy     1.7473      0.007    234.945      0.000         1.733     1.762\n",
        "==============================================================================\n",
        "Omnibus:                    58536.662   Durbin-Watson:                   1.126\n",
        "Prob(Omnibus):                  0.000   Jarque-Bera (JB):         25653337.659\n",
        "Skew:                           0.109   Prob(JB):                         0.00\n",
        "Kurtosis:                      63.631   Cond. No.                         393.\n",
        "=============================================================================="
       ]
      },
      {
       "output_type": "stream",
       "stream": "stdout",
       "text": [
        "\n"
       ]
      }
     ],
     "prompt_number": 23
    },
    {
     "cell_type": "code",
     "collapsed": false,
     "input": [
      "# load the boston housing dataset - median house values in the Boston area\n",
      "df = pd.read_csv('http://vincentarelbundock.github.io/Rdatasets/csv/MASS/Boston.csv')\n",
      "\n",
      "# plot lstat (% lower status of the population) against median value\n",
      "plt.figure(figsize=(6 * 1.618, 6))\n",
      "plt.scatter(df.lstat, df.medv, s=10, alpha=0.3)\n",
      "plt.xlabel('lstat')\n",
      "plt.ylabel('medv')\n",
      "\n",
      "# points linearlyd space on lstats\n",
      "x = pd.DataFrame({'lstat': np.linspace(df.lstat.min(), df.lstat.max(), 100)})\n",
      "\n",
      "# 1-st order polynomial\n",
      "poly_1 = smf.ols(formula='medv ~ 1 + lstat', data=df).fit()\n",
      "plt.plot(x.lstat, poly_1.predict(x), 'b-', label='Poly n=1 $R^2$=%.2f' % poly_1.rsquared, \n",
      "         alpha=0.9)\n",
      "\n",
      "# 2-nd order polynomial\n",
      "poly_2 = smf.ols(formula='medv ~ 1 + lstat + I(lstat ** 2.0)', data=df).fit()\n",
      "plt.plot(x.lstat, poly_2.predict(x), 'g-', label='Poly n=2 $R^2$=%.2f' % poly_2.rsquared, \n",
      "         alpha=0.9)\n",
      "\n",
      "# 3-rd order polynomial\n",
      "poly_3 = smf.ols(formula='medv ~ 1 + lstat + I(lstat ** 2.0) + I(lstat ** 3.0)', data=df).fit()\n",
      "plt.plot(x.lstat, poly_3.predict(x), 'r-', alpha=0.9,\n",
      "         label='Poly n=3 $R^2$=%.2f' % poly_3.rsquared)\n",
      "\n",
      "plt.legend()"
     ],
     "language": "python",
     "metadata": {},
     "outputs": []
    }
   ],
   "metadata": {}
  }
 ]
}