{
 "metadata": {
  "name": ""
 },
 "nbformat": 3,
 "nbformat_minor": 0,
 "worksheets": [
  {
   "cells": [
    {
     "cell_type": "code",
     "collapsed": false,
     "input": [
      "import pandas as pd\n",
      "from pandas import Series, DataFrame\n",
      "import numpy as np\n",
      "import pylab as pl\n",
      "import numpy as np\n",
      "from sklearn import datasets, linear_model\n",
      "import statsmodels.api as sm"
     ],
     "language": "python",
     "metadata": {},
     "outputs": [],
     "prompt_number": 60
    },
    {
     "cell_type": "code",
     "collapsed": false,
     "input": [
      "df_data2 = pd.read_csv('../data/freebase_cleaned_data.csv', error_bad_lines=False, delimiter='~')\n",
      "df_data = pd.read_csv('../data/freebasedata_profession.csv', error_bad_lines=False, delimiter='~')\n"
     ],
     "language": "python",
     "metadata": {},
     "outputs": [],
     "prompt_number": 61
    },
    {
     "cell_type": "code",
     "collapsed": false,
     "input": [
      "df_data.shape\n"
     ],
     "language": "python",
     "metadata": {},
     "outputs": [
      {
       "metadata": {},
       "output_type": "pyout",
       "prompt_number": 62,
       "text": [
        "(167481, 63)"
       ]
      }
     ],
     "prompt_number": 62
    },
    {
     "cell_type": "code",
     "collapsed": false,
     "input": [
      "#removing NaN values\n",
      "df_data2 = df_data2.replace('unknown', np.nan)\n",
      "df_data2 = df_data2.replace('none', np.nan)\n",
      "df_data2=df_data2.fillna(df_data2.median())"
     ],
     "language": "python",
     "metadata": {},
     "outputs": [],
     "prompt_number": 64
    },
    {
     "cell_type": "code",
     "collapsed": false,
     "input": [
      "#extracting fields for regression model\n",
      "df_data_X=pd.concat([df_data2['LifeExpectancy'],df_data2['gender'],df_data2['nationality_no'],df_data['profession1'],df_data2['Age']],axis=1)\n",
      "df_data_Y=pd.concat([df_data2['Age']],axis=1)"
     ],
     "language": "python",
     "metadata": {},
     "outputs": [],
     "prompt_number": 65
    },
    {
     "cell_type": "code",
     "collapsed": false,
     "input": [
      "print df_data_X.columns\n",
      "#Index([u'LifeExpectancy', u'gender', u'nationality_no', u'profession1'], dtype='object')\n",
      "fml = \"Age ~ 0 + gender + nationality_no + profession1+LifeExpectancy\"\n",
      "mod = sm.OLS.from_formula(fml, df_data_X)\n",
      "rslt = mod.fit()\n",
      "print rslt.summary()"
     ],
     "language": "python",
     "metadata": {},
     "outputs": [
      {
       "output_type": "stream",
       "stream": "stdout",
       "text": [
        "Index([u'LifeExpectancy', u'gender', u'nationality_no', u'profession1', u'Age'], dtype='object')\n",
        "                            OLS Regression Results                            \n",
        "==============================================================================\n",
        "Dep. Variable:                    Age   R-squared:                       0.415\n",
        "Model:                            OLS   Adj. R-squared:                  0.415\n",
        "Method:                 Least Squares   F-statistic:                 2.967e+04\n",
        "Date:                Wed, 12 Nov 2014   Prob (F-statistic):               0.00\n",
        "Time:                        17:59:12   Log-Likelihood:            -9.0742e+05\n",
        "No. Observations:              167481   AIC:                         1.815e+06\n",
        "Df Residuals:                  167477   BIC:                         1.815e+06\n",
        "Df Model:                           4                                         \n",
        "==================================================================================\n",
        "                     coef    std err          t      P>|t|      [95.0% Conf. Int.]\n",
        "----------------------------------------------------------------------------------\n",
        "gender            24.2059      0.463     52.301      0.000        23.299    25.113\n",
        "nationality_no     0.0599      0.001     48.171      0.000         0.057     0.062\n",
        "profession1       35.3053      0.367     96.163      0.000        34.586    36.025\n",
        "LifeExpectancy     1.7473      0.007    234.945      0.000         1.733     1.762\n",
        "==============================================================================\n",
        "Omnibus:                    58536.662   Durbin-Watson:                   1.126\n",
        "Prob(Omnibus):                  0.000   Jarque-Bera (JB):         25653337.659\n",
        "Skew:                           0.109   Prob(JB):                         0.00\n",
        "Kurtosis:                      63.631   Cond. No.                         393.\n",
        "=============================================================================="
       ]
      },
      {
       "output_type": "stream",
       "stream": "stdout",
       "text": [
        "\n"
       ]
      }
     ],
     "prompt_number": 66
    },
    {
     "cell_type": "code",
     "collapsed": false,
     "input": [
      "df_data_test = pd.read_csv('../data/celebrities_32_final.csv', error_bad_lines=False)\n",
      "#print df_data_test\n",
      "\n",
      "df_data_test['profession1'] = Series(1, index=df_data_test.index)\n",
      "df_data_test['gender']=Series(None, index=df_data_test.index)\n",
      "for index, row in df_data_test.iterrows():\n",
      "    if row['Gender']=='Male':\n",
      "        df_data2.loc[index,'gender1']=0\n",
      "    if row['Gender']=='Female':\n",
      "        df_data2.loc[index,'gender1']=1\n",
      "#df_data_test\n",
      "#df_test=pd.concat([df_data_test['LifeExpectancy'],df_data_test['gender'],df_data_test['nationality_no'],df_data_test['profession1']],axis=1)\n",
      "print df_data_test\n",
      "#print 24.2059*df_data_test['LifeExpectancy']+0.0599*df_data_test['nationality_no']+35.3053*df_data_test['profession1']+1.7473 *df_data_test['LifeExpectancy']\n",
      "data_results=rslt.predict(df_data_test)\n",
      "print data_results\n",
      "\n",
      "#df_data_Y=pd.concat([df_data2['Age']],axis=1)\n",
      "#df_data_test\n"
     ],
     "language": "python",
     "metadata": {},
     "outputs": [
      {
       "output_type": "stream",
       "stream": "stdout",
       "text": [
        "    Unnamed: 0                        Name  Age        Occupation  Gender  \\\n",
        "0            0          Queen Elizabeth II   88        Politician  Female   \n",
        "1            1  George Herbert Walker Bush   90        Politician    Male   \n",
        "2            2                Jimmy Carter   90        Politician    Male   \n",
        "3            3                Fidel Castro   88        Politician    Male   \n",
        "4            4               Pope Benedict   87        Pope-elect    Male   \n",
        "5            5               Robert Mugabe   90        Politician    Male   \n",
        "6            6                Shimon Peres   91        Politician    Male   \n",
        "7            7                Ali Khamenei   75        Politician    Male   \n",
        "8            8               Hosni Mubarak   86        Politician    Male   \n",
        "9            9              Helmut Schmidt   95        Politician    Male   \n",
        "10          10             Henry Kissinger   91          Diplomat    Male   \n",
        "11          11             Bashar al-Assad   49        Politician    Male   \n",
        "12          12                Lee Kwan Yew   91        Politician    Male   \n",
        "13          13           Rev. Billy Graham   96        Evangelist    Male   \n",
        "14          14              Rupert Murdoch   83  Business magnate    Male   \n",
        "15          15                 Dick Cheney   73        Politician    Male   \n",
        "16          16                  John Glenn   93         Astronaut    Male   \n",
        "17          17              Charles Manson   79          Musician    Male   \n",
        "18          18             Stephen Hawking   72         Physicist    Male   \n",
        "19          19                   Doris Day   90           Actress  Female   \n",
        "20          20               Dick van Dyke   88             Actor    Male   \n",
        "21          21         Olivia de Havilland   98           Actress  Female   \n",
        "22          22               Zsa Zsa Gabor   97           Actress  Female   \n",
        "23          23                   B.B. King   89          Musician    Male   \n",
        "24          24              Clint Eastwood   84             Actor    Male   \n",
        "25          25                Kirk Douglas   97             Actor    Male   \n",
        "26          26                 Chuck Berry   88         Guitarist    Male   \n",
        "27          27             Jerry Lee Lewis   79            Singer    Male   \n",
        "28          28                 Mick Jagger   71          Musician    Male   \n",
        "29          29              Keith Richards   70          Musician    Male   \n",
        "30          30                  Abe Vigoda   93             Actor    Male   \n",
        "31          31                 Fats Domino   86           Pianist    Male   \n",
        "\n",
        "                 Nationality  LifeExpectancy  Probability  nationality_no  \\\n",
        "0             United Kingdom            5.56     0.106352               5   \n",
        "1   United States of America            3.99     0.169195               1   \n",
        "2   United States of America            3.99     0.169195               1   \n",
        "3                       Cuba            4.64     0.138305              92   \n",
        "4                    Germany            5.00     0.124795               2   \n",
        "5                   Zimbabwe            3.99     0.169195             229   \n",
        "6                    Belarus            3.70     0.186543              79   \n",
        "7                       Iran           10.89     0.037855               4   \n",
        "8                      Egypt            5.38     0.112568              50   \n",
        "9                    Germany            2.79     0.266454               2   \n",
        "10                   Germany            3.70     0.186543               2   \n",
        "11                     Syria           30.31     0.004750             202   \n",
        "12                 Singapore            3.70     0.186543              37   \n",
        "13  United States of America            2.62     0.286625               1   \n",
        "14                 Australia            6.65     0.082891               3   \n",
        "15  United States of America           12.12     0.031480               1   \n",
        "16  United States of America            3.20     0.224867               1   \n",
        "17  United States of America            8.63     0.055465               1   \n",
        "18            United Kingdom           12.75     0.028808               5   \n",
        "19  United States of America            4.80     0.132384               1   \n",
        "20  United States of America            4.64     0.138305               1   \n",
        "21                     Japan            2.76     0.270923             684   \n",
        "22        Kingdom of Hungary            2.94     0.253602             698   \n",
        "23  United States of America            4.30     0.153107               1   \n",
        "24  United States of America            6.21     0.091725               1   \n",
        "25  United States of America            2.47     0.305869               1   \n",
        "26  United States of America            4.64     0.138305               1   \n",
        "27  United States of America            8.63     0.055465               1   \n",
        "28            United Kingdom           13.40     0.026364               5   \n",
        "29            United Kingdom           14.07     0.024139               5   \n",
        "30  United States of America            3.20     0.224867               1   \n",
        "31  United States of America            5.38     0.112568               1   \n",
        "\n",
        "    profession1  gender  \n",
        "0             1     NaN  \n",
        "1             1     NaN  \n",
        "2             1     NaN  \n",
        "3             1     NaN  \n",
        "4             1     NaN  \n",
        "5             1     NaN  \n",
        "6             1     NaN  \n",
        "7             1     NaN  \n",
        "8             1     NaN  \n",
        "9             1     NaN  \n",
        "10            1     NaN  \n",
        "11            1     NaN  \n",
        "12            1     NaN  \n",
        "13            1     NaN  \n",
        "14            1     NaN  \n",
        "15            1     NaN  \n",
        "16            1     NaN  \n",
        "17            1     NaN  \n",
        "18            1     NaN  \n",
        "19            1     NaN  \n",
        "20            1     NaN  \n",
        "21            1     NaN  \n",
        "22            1     NaN  \n",
        "23            1     NaN  \n",
        "24            1     NaN  \n",
        "25            1     NaN  \n",
        "26            1     NaN  \n",
        "27            1     NaN  \n",
        "28            1     NaN  \n",
        "29            1     NaN  \n",
        "30            1     NaN  \n",
        "31            1     NaN  \n",
        "\n",
        "[32 rows x 11 columns]\n",
        "[]\n"
       ]
      }
     ],
     "prompt_number": 69
    },
    {
     "cell_type": "code",
     "collapsed": false,
     "input": [
      "# load the boston housing dataset - median house values in the Boston area\n",
      "df = pd.read_csv('http://vincentarelbundock.github.io/Rdatasets/csv/MASS/Boston.csv')\n",
      "\n",
      "# plot lstat (% lower status of the population) against median value\n",
      "plt.figure(figsize=(6 * 1.618, 6))\n",
      "plt.scatter(df.lstat, df.medv, s=10, alpha=0.3)\n",
      "plt.xlabel('lstat')\n",
      "plt.ylabel('medv')\n",
      "\n",
      "# points linearlyd space on lstats\n",
      "x = pd.DataFrame({'lstat': np.linspace(df.lstat.min(), df.lstat.max(), 100)})\n",
      "\n",
      "# 1-st order polynomial\n",
      "poly_1 = smf.ols(formula='medv ~ 1 + lstat', data=df).fit()\n",
      "plt.plot(x.lstat, poly_1.predict(x), 'b-', label='Poly n=1 $R^2$=%.2f' % poly_1.rsquared, \n",
      "         alpha=0.9)\n",
      "\n",
      "# 2-nd order polynomial\n",
      "poly_2 = smf.ols(formula='medv ~ 1 + lstat + I(lstat ** 2.0)', data=df).fit()\n",
      "plt.plot(x.lstat, poly_2.predict(x), 'g-', label='Poly n=2 $R^2$=%.2f' % poly_2.rsquared, \n",
      "         alpha=0.9)\n",
      "\n",
      "# 3-rd order polynomial\n",
      "poly_3 = smf.ols(formula='medv ~ 1 + lstat + I(lstat ** 2.0) + I(lstat ** 3.0)', data=df).fit()\n",
      "plt.plot(x.lstat, poly_3.predict(x), 'r-', alpha=0.9,\n",
      "         label='Poly n=3 $R^2$=%.2f' % poly_3.rsquared)\n",
      "\n",
      "plt.legend()"
     ],
     "language": "python",
     "metadata": {},
     "outputs": []
    }
   ],
   "metadata": {}
  }
 ]
}