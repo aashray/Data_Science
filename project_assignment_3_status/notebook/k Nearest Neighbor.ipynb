{
 "metadata": {
  "name": "",
  "signature": "sha256:ec8eafd94c2932abe961e108368578fe47ebc5d233d5fc3ba14b9a9c33f03ba3"
 },
 "nbformat": 3,
 "nbformat_minor": 0,
 "worksheets": [
  {
   "cells": [
    {
     "cell_type": "code",
     "collapsed": false,
     "input": [
      "import pandas as pd\n",
      "from pandas import Series, DataFrame\n",
      "import numpy as np\n",
      "from sklearn import datasets\n",
      "from sklearn import metrics\n",
      "from sklearn.neighbors import KNeighborsClassifier"
     ],
     "language": "python",
     "metadata": {},
     "outputs": [],
     "prompt_number": 45
    },
    {
     "cell_type": "code",
     "collapsed": false,
     "input": [
      "'''\n",
      "#Reading data from csv\n",
      "df_all_data = pd.read_csv('../data/final_df.csv', error_bad_lines=False, delimiter='~')\n",
      "#Getting only the needed columns\n",
      "df_all_data = df_all_data[['Age', 'gender','LifeExpectancy']]\n",
      "df_data_X=pd.concat([df_all_data['Age'],  df_all_data['gender']],axis=1)\n",
      "df_data_Y=pd.concat([df_all_data['LifeExpectancy']],axis=1)\n",
      "'''"
     ],
     "language": "python",
     "metadata": {},
     "outputs": [
      {
       "metadata": {},
       "output_type": "pyout",
       "prompt_number": 2,
       "text": [
        "\"\\n#Reading data from csv\\ndf_all_data = pd.read_csv('../data/final_df.csv', error_bad_lines=False, delimiter='~')\\n#Getting only the needed columns\\ndf_all_data = df_all_data[['Age', 'gender','LifeExpectancy']]\\ndf_data_X=pd.concat([df_all_data['Age'],  df_all_data['gender']],axis=1)\\ndf_data_Y=pd.concat([df_all_data['LifeExpectancy']],axis=1)\\n\""
       ]
      }
     ],
     "prompt_number": 2
    },
    {
     "cell_type": "code",
     "collapsed": false,
     "input": [
      "'''\n",
      "# fit a k-nearest neighbor model to the data\n",
      "model = KNeighborsClassifier()\n",
      "#model.fit(df_all_data, df_all_data['LifeExpectancy'])\n",
      "model.fit(np.array(df_data_X), np.array(df_data_Y))\n",
      "print(model)\n",
      "# make predictions\n",
      "expected = np.array(df_data_Y)\n",
      "predicted = model.predict(np.array(df_data_X))\n",
      "# summarize the fit of the model\n",
      "print(metrics.classification_report(expected, predicted))\n",
      "print(metrics.confusion_matrix(expected, predicted))\n",
      "'''"
     ],
     "language": "python",
     "metadata": {},
     "outputs": [
      {
       "metadata": {},
       "output_type": "pyout",
       "prompt_number": 1,
       "text": [
        "\"\\n# fit a k-nearest neighbor model to the data\\nmodel = KNeighborsClassifier()\\n#model.fit(df_all_data, df_all_data['LifeExpectancy'])\\nmodel.fit(np.array(df_data_X), np.array(df_data_Y))\\nprint(model)\\n# make predictions\\nexpected = np.array(df_data_Y)\\npredicted = model.predict(np.array(df_data_X))\\n# summarize the fit of the model\\nprint(metrics.classification_report(expected, predicted))\\nprint(metrics.confusion_matrix(expected, predicted))\\n\""
       ]
      }
     ],
     "prompt_number": 1
    },
    {
     "cell_type": "code",
     "collapsed": false,
     "input": [
      "from sklearn import neighbors\n",
      "for i, weights in enumerate(['uniform', 'distance']):\n",
      "    knn = neighbors.KNeighborsRegressor(5, weights=weights)\n",
      "    y_ = knn.fit(df_data_X, df_data_Y)\n",
      "    #.predict(T)\n",
      "\n",
      "    "
     ],
     "language": "python",
     "metadata": {},
     "outputs": []
    },
    {
     "cell_type": "code",
     "collapsed": false,
     "input": [
      "plt.subplot(2, 1, i + 1)\n",
      "    plt.scatter(X, y, c='k', label='data')\n",
      "    plt.plot(T, y_, c='g', label='prediction')\n",
      "    plt.axis('tight')\n",
      "    plt.legend()\n",
      "    plt.title(\"KNeighborsRegressor (k = %i, weights = '%s')\" % (n_neighbors,\n",
      "                                                                weights))\n",
      "\n",
      "plt.show()"
     ],
     "language": "python",
     "metadata": {},
     "outputs": []
    }
   ],
   "metadata": {}
  }
 ]
}