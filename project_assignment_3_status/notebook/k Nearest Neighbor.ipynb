{
 "metadata": {
  "name": "",
  "signature": "sha256:7da183e87bcc35b9a158d6690d95829d480c9351cc3a274ecc4c52f84555952a"
 },
 "nbformat": 3,
 "nbformat_minor": 0,
 "worksheets": [
  {
   "cells": [
    {
     "cell_type": "code",
     "collapsed": false,
     "input": [
      "%matplotlib inline\n",
      "import pandas as pd\n",
      "from pandas import Series, DataFrame\n",
      "import numpy as np\n",
      "import pylab as pl\n",
      "import numpy as np\n",
      "from sklearn import datasets, linear_model\n",
      "import matplotlib.pyplot as plt\n",
      "import statsmodels.api as sm\n",
      "def stats(y_true,y_pred):\n",
      "    \n",
      "    from sklearn.metrics import mean_absolute_error,mean_squared_error,r2_score\n",
      "    print \"-----------EVALUATION STATISTICS------------\"\n",
      "    print 'Mean absolute Error : ', mean_absolute_error(test_Y.values, y_pred)\n",
      "    print 'Mean squared Error : ', mean_squared_error(y_true, y_pred)\n",
      "    print 'R2 score : ', r2_score(y_true, y_pred)"
     ],
     "language": "python",
     "metadata": {},
     "outputs": [],
     "prompt_number": 1
    },
    {
     "cell_type": "code",
     "collapsed": false,
     "input": [
      "'''\n",
      "#Reading data from csv\n",
      "df_all_data = pd.read_csv('../data/final_df.csv', error_bad_lines=False, delimiter='~')\n",
      "#Getting only the needed columns\n",
      "df_all_data = df_all_data[['Age', 'gender','LifeExpectancy']]\n",
      "df_data_X=pd.concat([df_all_data['Age'],  df_all_data['gender']],axis=1)\n",
      "df_data_Y=pd.concat([df_all_data['LifeExpectancy']],axis=1)\n",
      "'''"
     ],
     "language": "python",
     "metadata": {},
     "outputs": [
      {
       "metadata": {},
       "output_type": "pyout",
       "prompt_number": 2,
       "text": [
        "\"\\n#Reading data from csv\\ndf_all_data = pd.read_csv('../data/final_df.csv', error_bad_lines=False, delimiter='~')\\n#Getting only the needed columns\\ndf_all_data = df_all_data[['Age', 'gender','LifeExpectancy']]\\ndf_data_X=pd.concat([df_all_data['Age'],  df_all_data['gender']],axis=1)\\ndf_data_Y=pd.concat([df_all_data['LifeExpectancy']],axis=1)\\n\""
       ]
      }
     ],
     "prompt_number": 2
    },
    {
     "cell_type": "code",
     "collapsed": false,
     "input": [
      "df_data2 = pd.read_csv('../data/../data/finaldata_profession_corrected_dob.csv', error_bad_lines=False, delimiter='~')\n",
      "df_data = pd.read_csv('../data/freebasedata_profession.csv', error_bad_lines=False, delimiter='~')\n",
      "df_data2['LifeExpnAge'] = df_data2['LifeExpectancy']+df_data2['Age']"
     ],
     "language": "python",
     "metadata": {},
     "outputs": [],
     "prompt_number": 2
    },
    {
     "cell_type": "code",
     "collapsed": false,
     "input": [
      "print df_data2.shape\n",
      "print df_data2.columns\n",
      "#remving Nans and NOnes\n",
      "df_data2 = df_data2.replace('unknown', np.nan)\n",
      "df_data2 = df_data2.replace('none', np.nan)\n",
      "df_data2=df_data2.fillna(df_data2.median())\n",
      "print df_data2.shape\n",
      "print df_data2.columns"
     ],
     "language": "python",
     "metadata": {},
     "outputs": [
      {
       "output_type": "stream",
       "stream": "stdout",
       "text": [
        "(167480, 78)\n",
        "Index([u'Unnamed: 0', u'Unnamed: 0.1', u'Unnamed: 0.1', u'Name', u'/people/cause_of_death/parent_cause_of_death', u'/people/cause_of_death/includes_causes_of_death', u'/people/cause_of_death/people', u'DOD', u'/people/deceased_person/place_of_death', u'/people/deceased_person/cause_of_death', u'/people/deceased_person/date_of_cremation', u'/people/deceased_person/place_of_cremation', u'/people/deceased_person/date_of_burial', u'/people/deceased_person/place_of_burial', u'/people/ethnicity/included_in_group', u'/people/ethnicity/includes_groups', u'/people/ethnicity/geographic_distribution', u'/people/ethnicity/languages_spoken', u'/people/ethnicity/population', u'/people/ethnicity/people', u'/people/family_name/people_with_this_family_name', u'/people/group/member', u'/people/measured_person/measurements', u'/people/measured_person/sizes', u'DOB', u'/people/person/place_of_birth', u'/people/person/nationality', u'/people/person/gender', u'/people/person/profession', u'/people/person/religion', u'/people/person/ethnicity', u'/people/person/parents', u'/people/person/children', u'/people/person/sibling_s', u'/people/person/spouse_s', u'/people/person/employment_history', u'/people/person/education', u'/people/person/metaweb_user_s', u'/people/person/signature', u'/people/person/height_meters', u'/people/person/weight_kg', u'/people/person/quotations', u'/people/person/places_lived', u'/people/person/quotationsbook_id', u'/people/person/age', u'/people/person/tvrage_id', u'/people/person/notable_professions', u'/people/person/languages', u'/people/person/group', u'/people/professional_field/professions_in_this_field', u'/people/profession/people_with_this_profession', u'/people/profession/specialization_of', u'/people/profession/specializations', u'/people/profession/part_of_professional_field', u'Unnamed: 51', u'LifeExpectancy', u'Age', u'Probability', u'profession', u'gender', u'nationality', u'nationality_no', u'Politician', u'Pope-elect', u'Diplomat', u'Evangelist', u'Business magnate', u'Astronaut', u'Musician', u'Physicist', u'Actress', u'Actor', u'Guitarist', u'Singer', u'Pianist', u'DOB1', u'DOD1', u'LifeExpnAge'], dtype='object')\n",
        "(167480, 78)"
       ]
      },
      {
       "output_type": "stream",
       "stream": "stdout",
       "text": [
        "\n",
        "Index([u'Unnamed: 0', u'Unnamed: 0.1', u'Unnamed: 0.1', u'Name', u'/people/cause_of_death/parent_cause_of_death', u'/people/cause_of_death/includes_causes_of_death', u'/people/cause_of_death/people', u'DOD', u'/people/deceased_person/place_of_death', u'/people/deceased_person/cause_of_death', u'/people/deceased_person/date_of_cremation', u'/people/deceased_person/place_of_cremation', u'/people/deceased_person/date_of_burial', u'/people/deceased_person/place_of_burial', u'/people/ethnicity/included_in_group', u'/people/ethnicity/includes_groups', u'/people/ethnicity/geographic_distribution', u'/people/ethnicity/languages_spoken', u'/people/ethnicity/population', u'/people/ethnicity/people', u'/people/family_name/people_with_this_family_name', u'/people/group/member', u'/people/measured_person/measurements', u'/people/measured_person/sizes', u'DOB', u'/people/person/place_of_birth', u'/people/person/nationality', u'/people/person/gender', u'/people/person/profession', u'/people/person/religion', u'/people/person/ethnicity', u'/people/person/parents', u'/people/person/children', u'/people/person/sibling_s', u'/people/person/spouse_s', u'/people/person/employment_history', u'/people/person/education', u'/people/person/metaweb_user_s', u'/people/person/signature', u'/people/person/height_meters', u'/people/person/weight_kg', u'/people/person/quotations', u'/people/person/places_lived', u'/people/person/quotationsbook_id', u'/people/person/age', u'/people/person/tvrage_id', u'/people/person/notable_professions', u'/people/person/languages', u'/people/person/group', u'/people/professional_field/professions_in_this_field', u'/people/profession/people_with_this_profession', u'/people/profession/specialization_of', u'/people/profession/specializations', u'/people/profession/part_of_professional_field', u'Unnamed: 51', u'LifeExpectancy', u'Age', u'Probability', u'profession', u'gender', u'nationality', u'nationality_no', u'Politician', u'Pope-elect', u'Diplomat', u'Evangelist', u'Business magnate', u'Astronaut', u'Musician', u'Physicist', u'Actress', u'Actor', u'Guitarist', u'Singer', u'Pianist', u'DOB1', u'DOD1', u'LifeExpnAge'], dtype='object')\n"
       ]
      }
     ],
     "prompt_number": 3
    },
    {
     "cell_type": "code",
     "collapsed": false,
     "input": [
      "#removing NaN values\n",
      "df_data2 = df_data2.replace('unknown', np.nan)\n",
      "df_data2 = df_data2.replace('none', np.nan)\n",
      "df_data2 = df_data2.fillna(df_data2.median())"
     ],
     "language": "python",
     "metadata": {},
     "outputs": [],
     "prompt_number": 4
    },
    {
     "cell_type": "code",
     "collapsed": false,
     "input": [
      "#extracting fields for regression model\n",
      "df_data_X=pd.concat([df_data2['LifeExpnAge'],df_data2['gender'],df_data2['nationality_no'],df_data2['Politician'],df_data2['Pope-elect'],df_data2['Diplomat'],df_data2['Evangelist'],df_data2['Business magnate'],df_data2['Astronaut'],df_data2['Musician'],df_data2['Physicist'],df_data2['Actress'],df_data2['Actor'],df_data2['Guitarist'],df_data2['Singer'],df_data2['Pianist']],axis=1)\n",
      "df_data_Y=pd.concat([df_data2['Age']],axis=1)"
     ],
     "language": "python",
     "metadata": {},
     "outputs": [],
     "prompt_number": 5
    },
    {
     "cell_type": "code",
     "collapsed": false,
     "input": [
      "msk = np.random.rand(len(df_data2)) < 0.8\n",
      "train_X = df_data_X[msk]\n",
      "test_X = df_data_X[~msk]\n",
      "train_Y = df_data_Y[msk]\n",
      "test_Y = df_data_Y[~msk]\n",
      "train_X = train_X.replace('unknown', np.nan)\n",
      "train_X = train_X.replace('none', np.nan)\n",
      "train_X=train_X.fillna(train_X.median())\n",
      "test_X = test_X.replace('unknown', np.nan)\n",
      "test_X = test_X.replace('none', np.nan)\n",
      "test_X= test_X.fillna(test_X.median())\n",
      "test_Y = test_Y.replace('unknown', np.nan)\n",
      "test_Y = test_Y.replace('none', np.nan)\n",
      "test_Y= test_Y.fillna(test_Y.median())\n",
      "train_Y = train_Y.replace('unknown', np.nan)\n",
      "train_Y = train_Y.replace('none', np.nan)\n",
      "train_Y=train_Y.fillna(train_Y.median())\n",
      "print train_X.shape\n",
      "print train_Y.shape\n",
      "test_X.columns"
     ],
     "language": "python",
     "metadata": {},
     "outputs": [
      {
       "output_type": "stream",
       "stream": "stdout",
       "text": [
        "(133871, 16)\n",
        "(133871, 1)\n"
       ]
      },
      {
       "metadata": {},
       "output_type": "pyout",
       "prompt_number": 6,
       "text": [
        "Index([u'LifeExpnAge', u'gender', u'nationality_no', u'Politician', u'Pope-elect', u'Diplomat', u'Evangelist', u'Business magnate', u'Astronaut', u'Musician', u'Physicist', u'Actress', u'Actor', u'Guitarist', u'Singer', u'Pianist'], dtype='object')"
       ]
      }
     ],
     "prompt_number": 6
    },
    {
     "cell_type": "code",
     "collapsed": false,
     "input": [
      "from sklearn import neighbors\n",
      "#for i, weights in enumerate(['uniform', 'distance']):\n",
      "knn = neighbors.KNeighborsRegressor(1, weights=weights)\n",
      "y_ = knn.fit(train_X, train_Y)\n",
      "print y_\n",
      "print y_.predict(test_X)\n",
      "    #.predict(T)"
     ],
     "language": "python",
     "metadata": {},
     "outputs": [
      {
       "output_type": "stream",
       "stream": "stdout",
       "text": [
        "KNeighborsRegressor(algorithm='auto', leaf_size=30, metric='minkowski',\n",
        "          metric_params=None, n_neighbors=1, p=2, weights='distance')\n",
        "[[ nan]\n",
        " [ nan]\n",
        " [ nan]\n",
        " ..., \n",
        " [ 40.]\n",
        " [ nan]\n",
        " [ nan]]"
       ]
      },
      {
       "output_type": "stream",
       "stream": "stdout",
       "text": [
        "\n"
       ]
      }
     ],
     "prompt_number": 11
    },
    {
     "cell_type": "code",
     "collapsed": false,
     "input": [
      "'''\n",
      "# fit a k-nearest neighbor model to the data\n",
      "model = KNeighborsClassifier()\n",
      "#model.fit(df_all_data, df_all_data['LifeExpectancy'])\n",
      "model.fit(np.array(df_data_X), np.array(df_data_Y))\n",
      "print(model)\n",
      "# make predictions\n",
      "expected = np.array(df_data_Y)\n",
      "predicted = model.predict(np.array(df_data_X))\n",
      "# summarize the fit of the model\n",
      "print(metrics.classification_report(expected, predicted))\n",
      "print(metrics.confusion_matrix(expected, predicted))\n",
      "'''"
     ],
     "language": "python",
     "metadata": {},
     "outputs": [
      {
       "metadata": {},
       "output_type": "pyout",
       "prompt_number": 1,
       "text": [
        "\"\\n# fit a k-nearest neighbor model to the data\\nmodel = KNeighborsClassifier()\\n#model.fit(df_all_data, df_all_data['LifeExpectancy'])\\nmodel.fit(np.array(df_data_X), np.array(df_data_Y))\\nprint(model)\\n# make predictions\\nexpected = np.array(df_data_Y)\\npredicted = model.predict(np.array(df_data_X))\\n# summarize the fit of the model\\nprint(metrics.classification_report(expected, predicted))\\nprint(metrics.confusion_matrix(expected, predicted))\\n\""
       ]
      }
     ],
     "prompt_number": 1
    },
    {
     "cell_type": "code",
     "collapsed": false,
     "input": [
      "from sklearn import neighbors\n",
      "for i, weights in enumerate(['uniform', 'distance']):\n",
      "    knn = neighbors.KNeighborsRegressor(5, weights=weights)\n",
      "    y_ = knn.fit(df_data_X, df_data_Y)\n",
      "    #.predict(T)\n",
      "\n",
      "    "
     ],
     "language": "python",
     "metadata": {},
     "outputs": []
    },
    {
     "cell_type": "code",
     "collapsed": false,
     "input": [
      "plt.subplot(2, 1, i + 1)\n",
      "    plt.scatter(X, y, c='k', label='data')\n",
      "    plt.plot(T, y_, c='g', label='prediction')\n",
      "    plt.axis('tight')\n",
      "    plt.legend()\n",
      "    plt.title(\"KNeighborsRegressor (k = %i, weights = '%s')\" % (n_neighbors,\n",
      "                                                                weights))\n",
      "\n",
      "plt.show()"
     ],
     "language": "python",
     "metadata": {},
     "outputs": []
    }
   ],
   "metadata": {}
  }
 ]
}